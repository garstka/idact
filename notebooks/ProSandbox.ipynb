{
 "cells": [
  {
   "cell_type": "markdown",
   "metadata": {},
   "source": [
    "# idact - Prometheus sandbox"
   ]
  },
  {
   "cell_type": "markdown",
   "metadata": {},
   "source": [
    "## Initial setup"
   ]
  },
  {
   "cell_type": "markdown",
   "metadata": {},
   "source": [
    "Add `idact` to path:"
   ]
  },
  {
   "cell_type": "code",
   "execution_count": 7,
   "metadata": {},
   "outputs": [],
   "source": [
    "import sys\n",
    "import os\n",
    "import bitmath\n",
    "import getpass\n",
    "import contextlib\n",
    "import fabric\n",
    "import logging\n",
    "from pprint import pprint\n",
    "\n",
    "def append_idact_path():\n",
    "    idact_path = os.path.realpath(os.path.join(os.getcwd(), '../'))\n",
    "    sys.path.append(idact_path)\n",
    "append_idact_path()\n",
    "\n",
    "from idact import *\n",
    "from idact.detail.auth.set_password import set_password\n",
    "\n",
    "os.environ['IDACT_KEY_LOCATION'] = os.path.join(os.getcwd(), '../.notebook-ssh')\n",
    "# os.environ['IDACT_KEY_LOCATION'] = os.path.expanduser('~/.ssh')\n",
    "if not os.path.exists(os.environ['IDACT_KEY_LOCATION']):\n",
    "    os.mkdir(os.environ['IDACT_KEY_LOCATION'])\n",
    "\n",
    "USER = 'plggarstka'"
   ]
  },
  {
   "cell_type": "markdown",
   "metadata": {},
   "source": [
    "Hide debug information, setup context manager stack (for testing purposes)"
   ]
  },
  {
   "cell_type": "markdown",
   "metadata": {},
   "source": [
    "## Add cluster (only first run)"
   ]
  },
  {
   "cell_type": "code",
   "execution_count": 8,
   "metadata": {},
   "outputs": [],
   "source": [
    "key = KeyType.RSA  # Generate RSA key\n",
    "# key = os.path.join(os.path.expanduser('~/.ssh'), 'id_rsa')"
   ]
  },
  {
   "cell_type": "code",
   "execution_count": 9,
   "metadata": {},
   "outputs": [
    {
     "name": "stdout",
     "output_type": "stream",
     "text": [
      "2018-10-20 21:41:50 INFO: Generating public-private key pair.\n"
     ]
    }
   ],
   "source": [
    "cluster = add_cluster(name=\"pro\",\n",
    "                      user=USER,\n",
    "                      host=\"pro.cyfronet.pl\",\n",
    "                      port=22,\n",
    "                      auth=AuthMethod.PUBLIC_KEY,\n",
    "                      key=key,\n",
    "                      install_key=True,\n",
    "                      scratch=\"$SCRATCH\")\n",
    "save_environment('.idact-env')"
   ]
  },
  {
   "cell_type": "markdown",
   "metadata": {},
   "source": [
    "## Load cluster (subsequent runs)"
   ]
  },
  {
   "cell_type": "code",
   "execution_count": 10,
   "metadata": {},
   "outputs": [
    {
     "data": {
      "text/plain": [
       "Cluster(pro.cyfronet.pl, 22, plggarstka, auth=AuthMethod.PUBLIC_KEY, key='E:\\\\shared\\\\uni\\\\eng-project\\\\notebooks\\\\../.notebook-ssh\\\\id_rsa_qk', install_key=True, disable_sshd=False)"
      ]
     },
     "execution_count": 10,
     "metadata": {},
     "output_type": "execute_result"
    }
   ],
   "source": [
    "load_environment('.idact-env')\n",
    "cluster = show_cluster(\"pro\")\n",
    "cluster"
   ]
  },
  {
   "cell_type": "code",
   "execution_count": 11,
   "metadata": {},
   "outputs": [],
   "source": [
    "set_log_level(logging.INFO)\n",
    "#set_log_level(logging.DEBUG)\n",
    "save_environment('.idact-env')"
   ]
  },
  {
   "cell_type": "code",
   "execution_count": 12,
   "metadata": {},
   "outputs": [
    {
     "data": {
      "text/plain": [
       "Node(pro.cyfronet.pl:22, None)"
      ]
     },
     "execution_count": 12,
     "metadata": {},
     "output_type": "execute_result"
    }
   ],
   "source": [
    "node = cluster.get_access_node()\n",
    "node"
   ]
  },
  {
   "cell_type": "markdown",
   "metadata": {},
   "source": [
    "On your first action, you will be asked for a password to install the key.\n",
    "You can connect explicitly (optional) to do this right now:"
   ]
  },
  {
   "cell_type": "code",
   "execution_count": 13,
   "metadata": {},
   "outputs": [
    {
     "name": "stdout",
     "output_type": "stream",
     "text": [
      "2018-10-20 21:41:50 INFO: Installing key using password authentication.\n",
      "Password for plggarstka@pro.cyfronet.pl:22: \n"
     ]
    }
   ],
   "source": [
    "node.connect()"
   ]
  },
  {
   "cell_type": "code",
   "execution_count": 14,
   "metadata": {},
   "outputs": [
    {
     "data": {
      "text/plain": [
       "'plggarstka'"
      ]
     },
     "execution_count": 14,
     "metadata": {},
     "output_type": "execute_result"
    }
   ],
   "source": [
    "node.run('whoami')"
   ]
  },
  {
   "cell_type": "code",
   "execution_count": 15,
   "metadata": {},
   "outputs": [
    {
     "data": {
      "text/plain": [
       "'login01.pro.cyfronet.pl'"
      ]
     },
     "execution_count": 15,
     "metadata": {},
     "output_type": "execute_result"
    }
   ],
   "source": [
    "node.run('hostname')"
   ]
  },
  {
   "cell_type": "markdown",
   "metadata": {},
   "source": [
    "## Allocate nodes"
   ]
  },
  {
   "cell_type": "code",
   "execution_count": 16,
   "metadata": {},
   "outputs": [
    {
     "name": "stdout",
     "output_type": "stream",
     "text": [
      "2018-10-20 21:42:17 INFO: Creating the ssh directory.\n"
     ]
    }
   ],
   "source": [
    "nodes = cluster.allocate_nodes(nodes=2,\n",
    "                               cores=2,\n",
    "                               memory_per_node=bitmath.GiB(10),\n",
    "                               walltime=Walltime(minutes=20),\n",
    "                               native_args={\n",
    "                                   '--partition': 'plgrid-testing',\n",
    "                                   '--account': 'intdata'\n",
    "                               })"
   ]
  },
  {
   "cell_type": "code",
   "execution_count": 17,
   "metadata": {},
   "outputs": [
    {
     "data": {
      "text/plain": [
       "Nodes([Node(NotAllocated),Node(NotAllocated)], SlurmAllocation(job_id=13775764))"
      ]
     },
     "execution_count": 17,
     "metadata": {},
     "output_type": "execute_result"
    }
   ],
   "source": [
    "nodes"
   ]
  },
  {
   "cell_type": "code",
   "execution_count": 18,
   "metadata": {},
   "outputs": [
    {
     "data": {
      "text/plain": [
       "Nodes([Node(p1875:51901, 2018-10-20 20:02:27.757235+00:00),Node(p1885:55819, 2018-10-20 20:02:27.757235+00:00)], SlurmAllocation(job_id=13775764))"
      ]
     },
     "execution_count": 18,
     "metadata": {},
     "output_type": "execute_result"
    }
   ],
   "source": [
    "nodes.wait()\n",
    "nodes"
   ]
  },
  {
   "cell_type": "markdown",
   "metadata": {},
   "source": [
    "## Run commands"
   ]
  },
  {
   "cell_type": "code",
   "execution_count": 19,
   "metadata": {},
   "outputs": [
    {
     "data": {
      "text/plain": [
       "'plggarstka'"
      ]
     },
     "execution_count": 19,
     "metadata": {},
     "output_type": "execute_result"
    }
   ],
   "source": [
    "nodes[0].run('whoami')"
   ]
  },
  {
   "cell_type": "code",
   "execution_count": 20,
   "metadata": {},
   "outputs": [
    {
     "data": {
      "text/plain": [
       "'p1875'"
      ]
     },
     "execution_count": 20,
     "metadata": {},
     "output_type": "execute_result"
    }
   ],
   "source": [
    "nodes[0].run('hostname')"
   ]
  },
  {
   "cell_type": "code",
   "execution_count": 21,
   "metadata": {},
   "outputs": [
    {
     "data": {
      "text/plain": [
       "'JOBID PARTITION     NAME     USER ST       TIME  NODES NODELIST(REASON)\\n          13775764 plgrid-te     wrap plggarst  R       0:13      2 p[1875,1885]'"
      ]
     },
     "execution_count": 21,
     "metadata": {},
     "output_type": "execute_result"
    }
   ],
   "source": [
    "nodes[1].run('squeue')"
   ]
  },
  {
   "cell_type": "code",
   "execution_count": 22,
   "metadata": {},
   "outputs": [
    {
     "data": {
      "text/plain": [
       "'p1885'"
      ]
     },
     "execution_count": 22,
     "metadata": {},
     "output_type": "execute_result"
    }
   ],
   "source": [
    "nodes[1].run('hostname')"
   ]
  },
  {
   "cell_type": "markdown",
   "metadata": {},
   "source": [
    "## Examine node resources"
   ]
  },
  {
   "cell_type": "code",
   "execution_count": 23,
   "metadata": {},
   "outputs": [
    {
     "data": {
      "text/plain": [
       "GiB(10.0)"
      ]
     },
     "execution_count": 23,
     "metadata": {},
     "output_type": "execute_result"
    }
   ],
   "source": [
    "nodes[0].resources.memory_total"
   ]
  },
  {
   "cell_type": "code",
   "execution_count": 24,
   "metadata": {},
   "outputs": [
    {
     "data": {
      "text/plain": [
       "GiB(0.022434234619140625)"
      ]
     },
     "execution_count": 24,
     "metadata": {},
     "output_type": "execute_result"
    }
   ],
   "source": [
    "nodes[0].resources.memory_usage"
   ]
  },
  {
   "cell_type": "code",
   "execution_count": 25,
   "metadata": {},
   "outputs": [
    {
     "data": {
      "text/plain": [
       "2"
      ]
     },
     "execution_count": 25,
     "metadata": {},
     "output_type": "execute_result"
    }
   ],
   "source": [
    "nodes[0].resources.cpu_cores"
   ]
  },
  {
   "cell_type": "code",
   "execution_count": 26,
   "metadata": {},
   "outputs": [
    {
     "data": {
      "text/plain": [
       "1.0"
      ]
     },
     "execution_count": 26,
     "metadata": {},
     "output_type": "execute_result"
    }
   ],
   "source": [
    "nodes[0].resources.cpu_usage"
   ]
  },
  {
   "cell_type": "markdown",
   "metadata": {},
   "source": [
    "## Tunnel"
   ]
  },
  {
   "cell_type": "code",
   "execution_count": 27,
   "metadata": {},
   "outputs": [],
   "source": [
    "tunnel = nodes[0].tunnel(here=9000, there=10000)"
   ]
  },
  {
   "cell_type": "code",
   "execution_count": 28,
   "metadata": {},
   "outputs": [
    {
     "data": {
      "text/plain": [
       "MultiHopTunnel(9000:10000)"
      ]
     },
     "execution_count": 28,
     "metadata": {},
     "output_type": "execute_result"
    }
   ],
   "source": [
    "tunnel"
   ]
  },
  {
   "cell_type": "code",
   "execution_count": 29,
   "metadata": {},
   "outputs": [],
   "source": [
    "tunnel.close()"
   ]
  },
  {
   "cell_type": "markdown",
   "metadata": {},
   "source": [
    "## Deploy notebook"
   ]
  },
  {
   "cell_type": "markdown",
   "metadata": {},
   "source": [
    "One-time config step (cluster-specific):"
   ]
  },
  {
   "cell_type": "code",
   "execution_count": 30,
   "metadata": {},
   "outputs": [],
   "source": [
    "cluster.config.setup_actions.jupyter = ['module load plgrid/tools/python-intel/3.6.2']\n",
    "save_environment('.idact-env')"
   ]
  },
  {
   "cell_type": "markdown",
   "metadata": {},
   "source": [
    "To run Jupyter Notebook on the cluster:"
   ]
  },
  {
   "cell_type": "code",
   "execution_count": 31,
   "metadata": {},
   "outputs": [
    {
     "name": "stdout",
     "output_type": "stream",
     "text": [
      "2018-10-20 21:42:56 WARNING: Exception: Cannot run task., retry 1/5.\n"
     ]
    },
    {
     "data": {
      "text/plain": [
       "JupyterDeployment(8080 -> Node(p1875:51901, 2018-10-20 20:02:27.757235+00:00)"
      ]
     },
     "execution_count": 31,
     "metadata": {},
     "output_type": "execute_result"
    }
   ],
   "source": [
    "nb = nodes[0].deploy_notebook(local_port=8080)\n",
    "nb"
   ]
  },
  {
   "cell_type": "code",
   "execution_count": 32,
   "metadata": {},
   "outputs": [
    {
     "data": {
      "text/plain": [
       "GiB(0.08092498779296875)"
      ]
     },
     "execution_count": 32,
     "metadata": {},
     "output_type": "execute_result"
    }
   ],
   "source": [
    "nodes[0].resources.memory_usage"
   ]
  },
  {
   "cell_type": "code",
   "execution_count": 33,
   "metadata": {},
   "outputs": [
    {
     "data": {
      "text/plain": [
       "8080"
      ]
     },
     "execution_count": 33,
     "metadata": {},
     "output_type": "execute_result"
    }
   ],
   "source": [
    "nb.local_port"
   ]
  },
  {
   "cell_type": "markdown",
   "metadata": {},
   "source": [
    "To open the deployed notebook server in a new tab:"
   ]
  },
  {
   "cell_type": "code",
   "execution_count": 34,
   "metadata": {},
   "outputs": [],
   "source": [
    "nb.open_in_browser()"
   ]
  },
  {
   "cell_type": "code",
   "execution_count": 35,
   "metadata": {},
   "outputs": [
    {
     "data": {
      "text/plain": [
       "GiB(0.08106613159179688)"
      ]
     },
     "execution_count": 35,
     "metadata": {},
     "output_type": "execute_result"
    }
   ],
   "source": [
    "nodes[0].resources.memory_usage"
   ]
  },
  {
   "cell_type": "markdown",
   "metadata": {},
   "source": [
    "### Push and pull notebook\n",
    "\n",
    "You can access the deployed notebook from multiple places by first pushing it:"
   ]
  },
  {
   "cell_type": "code",
   "execution_count": 36,
   "metadata": {},
   "outputs": [
    {
     "name": "stdout",
     "output_type": "stream",
     "text": [
      "2018-10-20 21:43:15 INFO: Pushing deployment: JupyterDeployment(8080 -> Node(p1875:51901, 2018-10-20 20:02:27.757235+00:00)\n"
     ]
    }
   ],
   "source": [
    "cluster.push_deployment(nb)"
   ]
  },
  {
   "cell_type": "markdown",
   "metadata": {},
   "source": [
    "And then pulling:"
   ]
  },
  {
   "cell_type": "code",
   "execution_count": 37,
   "metadata": {},
   "outputs": [
    {
     "name": "stdout",
     "output_type": "stream",
     "text": [
      "2018-10-20 21:43:25 INFO: Pulling deployments.\n"
     ]
    },
    {
     "name": "stderr",
     "output_type": "stream",
     "text": [
      "2018-10-20 21:43:30,650| ERROR   | Could not establish connection from ('127.0.0.1', 54604) to remote side of the tunnel\n",
      "2018-10-20 21:43:30,658| ERROR   | Exception: Error reading SSH protocol banner\n",
      "2018-10-20 21:43:30,765| ERROR   | Traceback (most recent call last):\n",
      "2018-10-20 21:43:30,766| ERROR   |   File \"E:\\Anaconda3\\envs\\idact-dev\\lib\\site-packages\\paramiko\\transport.py\", line 2044, in _check_banner\n",
      "2018-10-20 21:43:30,767| ERROR   |     buf = self.packetizer.readline(timeout)\n",
      "2018-10-20 21:43:30,768| ERROR   |   File \"E:\\Anaconda3\\envs\\idact-dev\\lib\\site-packages\\paramiko\\packet.py\", line 353, in readline\n",
      "2018-10-20 21:43:30,769| ERROR   |     buf += self._read_timeout(timeout)\n",
      "2018-10-20 21:43:30,770| ERROR   |   File \"E:\\Anaconda3\\envs\\idact-dev\\lib\\site-packages\\paramiko\\packet.py\", line 542, in _read_timeout\n",
      "2018-10-20 21:43:30,771| ERROR   |     raise EOFError()\n",
      "2018-10-20 21:43:30,772| ERROR   | EOFError\n",
      "2018-10-20 21:43:30,774| ERROR   | \n",
      "2018-10-20 21:43:30,775| ERROR   | During handling of the above exception, another exception occurred:\n",
      "2018-10-20 21:43:30,776| ERROR   | \n",
      "2018-10-20 21:43:30,778| ERROR   | Traceback (most recent call last):\n",
      "2018-10-20 21:43:30,779| ERROR   |   File \"E:\\Anaconda3\\envs\\idact-dev\\lib\\site-packages\\paramiko\\transport.py\", line 1893, in run\n",
      "2018-10-20 21:43:30,780| ERROR   |     self._check_banner()\n",
      "2018-10-20 21:43:30,781| ERROR   |   File \"E:\\Anaconda3\\envs\\idact-dev\\lib\\site-packages\\paramiko\\transport.py\", line 2049, in _check_banner\n",
      "2018-10-20 21:43:30,781| ERROR   |     'Error reading SSH protocol banner' + str(e)\n",
      "2018-10-20 21:43:30,782| ERROR   | paramiko.ssh_exception.SSHException: Error reading SSH protocol banner\n",
      "2018-10-20 21:43:30,782| ERROR   | \n",
      "2018-10-20 21:43:30,783| ERROR   | Could not connect to gateway 127.0.0.1:54604 : Error reading SSH protocol banner\n"
     ]
    },
    {
     "name": "stdout",
     "output_type": "stream",
     "text": [
      "2018-10-20 21:43:30 WARNING: Exception: Could not establish session to SSH gateway, retry 1/3.\n",
      "2018-10-20 21:43:36 INFO: Pulled Jupyter deployment: JupyterDeployment(54614 -> Node(p1875:51901, 2018-10-20 20:02:27.757235+00:00)\n"
     ]
    },
    {
     "data": {
      "text/plain": [
       "[JupyterDeployment(54614 -> Node(p1875:51901, 2018-10-20 20:02:27.757235+00:00)]"
      ]
     },
     "execution_count": 37,
     "metadata": {},
     "output_type": "execute_result"
    }
   ],
   "source": [
    "deployments = cluster.pull_deployments()\n",
    "deployments.jupyter_deployments"
   ]
  },
  {
   "cell_type": "code",
   "execution_count": 38,
   "metadata": {},
   "outputs": [
    {
     "data": {
      "text/plain": [
       "JupyterDeployment(54614 -> Node(p1875:51901, 2018-10-20 20:02:27.757235+00:00)"
      ]
     },
     "execution_count": 38,
     "metadata": {},
     "output_type": "execute_result"
    }
   ],
   "source": [
    "nb_2 = deployments.jupyter_deployments[0]\n",
    "nb_2"
   ]
  },
  {
   "cell_type": "code",
   "execution_count": 39,
   "metadata": {},
   "outputs": [],
   "source": [
    "nb_2.open_in_browser()"
   ]
  },
  {
   "cell_type": "code",
   "execution_count": 40,
   "metadata": {},
   "outputs": [
    {
     "name": "stdout",
     "output_type": "stream",
     "text": [
      "2018-10-20 21:43:58 INFO: Cancelling Jupyter deployment.\n"
     ]
    }
   ],
   "source": [
    "nb_2.cancel()"
   ]
  },
  {
   "cell_type": "markdown",
   "metadata": {},
   "source": [
    "More on pushing and pulling deployments in the next section."
   ]
  },
  {
   "cell_type": "markdown",
   "metadata": {},
   "source": [
    "## Push and pull nodes"
   ]
  },
  {
   "cell_type": "markdown",
   "metadata": {},
   "source": [
    "In order to work with Dask, you would usually need a notebook running on the cluster, as shown above."
   ]
  },
  {
   "cell_type": "markdown",
   "metadata": {},
   "source": [
    "To access the allocated nodes from the cluster, you need to push their deployment first, same as the notebook deployment above:"
   ]
  },
  {
   "cell_type": "code",
   "execution_count": 41,
   "metadata": {},
   "outputs": [
    {
     "name": "stdout",
     "output_type": "stream",
     "text": [
      "2018-10-20 21:44:22 INFO: Pushing deployment: Nodes([Node(p1875:51901, 2018-10-20 20:02:27.757235+00:00),Node(p1885:55819, 2018-10-20 20:02:27.757235+00:00)], SlurmAllocation(job_id=13775764))\n"
     ]
    }
   ],
   "source": [
    "cluster.push_deployment(nodes)"
   ]
  },
  {
   "cell_type": "markdown",
   "metadata": {},
   "source": [
    "Then, you would pull the deployment on the cluster:"
   ]
  },
  {
   "cell_type": "code",
   "execution_count": 42,
   "metadata": {},
   "outputs": [
    {
     "name": "stdout",
     "output_type": "stream",
     "text": [
      "2018-10-20 21:44:31 INFO: Pulling deployments.\n",
      "2018-10-20 21:44:36 INFO: Pulled allocation deployment: Nodes([Node(p1875:51901, 2018-10-20 20:02:27.757235+00:00),Node(p1885:55819, 2018-10-20 20:02:27.757235+00:00)], SlurmAllocation(job_id=13775764))\n",
      "2018-10-20 21:44:36 INFO: Pulled Jupyter deployment: JupyterDeployment(54644 -> Node(p1875:51901, 2018-10-20 20:02:27.757235+00:00)\n"
     ]
    },
    {
     "name": "stderr",
     "output_type": "stream",
     "text": [
      "2018-10-20 21:44:37,989| ERROR   | Secsh channel 0 open FAILED: Connection refused: Connect failed\n",
      "2018-10-20 21:44:37,996| ERROR   | Could not establish connection from ('127.0.0.1', 54644) to remote side of the tunnel\n"
     ]
    },
    {
     "name": "stdout",
     "output_type": "stream",
     "text": [
      "2018-10-20 21:44:38 WARNING: Exception: ('Connection aborted.', RemoteDisconnected('Remote end closed connection without response',)), retry 1/3.\n"
     ]
    },
    {
     "name": "stderr",
     "output_type": "stream",
     "text": [
      "2018-10-20 21:44:40,048| ERROR   | Secsh channel 1 open FAILED: Connection refused: Connect failed\n",
      "2018-10-20 21:44:40,051| ERROR   | Could not establish connection from ('127.0.0.1', 54644) to remote side of the tunnel\n"
     ]
    },
    {
     "name": "stdout",
     "output_type": "stream",
     "text": [
      "2018-10-20 21:44:40 WARNING: Exception: ('Connection aborted.', RemoteDisconnected('Remote end closed connection without response',)), retry 2/3.\n"
     ]
    },
    {
     "name": "stderr",
     "output_type": "stream",
     "text": [
      "2018-10-20 21:44:42,101| ERROR   | Secsh channel 2 open FAILED: Connection refused: Connect failed\n",
      "2018-10-20 21:44:42,104| ERROR   | Could not establish connection from ('127.0.0.1', 54644) to remote side of the tunnel\n"
     ]
    },
    {
     "name": "stdout",
     "output_type": "stream",
     "text": [
      "2018-10-20 21:44:42 WARNING: Exception: ('Connection aborted.', RemoteDisconnected('Remote end closed connection without response',)), retry 3/3.\n"
     ]
    },
    {
     "name": "stderr",
     "output_type": "stream",
     "text": [
      "2018-10-20 21:44:44,151| ERROR   | Secsh channel 3 open FAILED: Connection refused: Connect failed\n",
      "2018-10-20 21:44:44,154| ERROR   | Could not establish connection from ('127.0.0.1', 54644) to remote side of the tunnel\n"
     ]
    },
    {
     "name": "stdout",
     "output_type": "stream",
     "text": [
      "2018-10-20 21:44:44 WARNING: Discarding a Jupyter deployment,  because it is no longer functional: JupyterDeployment(54644 -> Node(p1875:51901, 2018-10-20 20:02:27.757235+00:00). Exception: ('Connection aborted.', RemoteDisconnected('Remote end closed connection without response',)).\n"
     ]
    },
    {
     "data": {
      "text/plain": [
       "SynchronizedDeployments(nodes=1, jupyter_deployments=0)"
      ]
     },
     "execution_count": 42,
     "metadata": {},
     "output_type": "execute_result"
    }
   ],
   "source": [
    "deployments = cluster.pull_deployments()\n",
    "deployments"
   ]
  },
  {
   "cell_type": "code",
   "execution_count": 43,
   "metadata": {},
   "outputs": [
    {
     "data": {
      "text/plain": [
       "Nodes([Node(p1875:51901, 2018-10-20 20:02:27.757235+00:00),Node(p1885:55819, 2018-10-20 20:02:27.757235+00:00)], SlurmAllocation(job_id=13775764))"
      ]
     },
     "execution_count": 43,
     "metadata": {},
     "output_type": "execute_result"
    }
   ],
   "source": [
    "nodes = deployments.nodes[0]\n",
    "nodes"
   ]
  },
  {
   "cell_type": "markdown",
   "metadata": {},
   "source": [
    "Essentially, this feature is intended for using an allocation in multiple notebooks at once."
   ]
  },
  {
   "cell_type": "markdown",
   "metadata": {},
   "source": [
    "Deployments are cleared automatically if they are expired or cancelled. They can also be cleared manually by  running:"
   ]
  },
  {
   "cell_type": "code",
   "execution_count": 44,
   "metadata": {},
   "outputs": [
    {
     "name": "stdout",
     "output_type": "stream",
     "text": [
      "2018-10-20 21:45:06 INFO: Clearing deployments.\n"
     ]
    }
   ],
   "source": [
    "cluster.clear_pushed_deployments()"
   ]
  },
  {
   "cell_type": "markdown",
   "metadata": {},
   "source": [
    "## Deploy Dask"
   ]
  },
  {
   "cell_type": "markdown",
   "metadata": {},
   "source": [
    "One-time config step (cluster-specific):"
   ]
  },
  {
   "cell_type": "code",
   "execution_count": 45,
   "metadata": {},
   "outputs": [],
   "source": [
    "cluster.config.setup_actions.dask = ['module load plgrid/tools/python-intel/3.6.2']\n",
    "cluster.config.scratch = '$SCRATCH'\n",
    "save_environment('.idact-env')"
   ]
  },
  {
   "cell_type": "code",
   "execution_count": 46,
   "metadata": {},
   "outputs": [
    {
     "name": "stdout",
     "output_type": "stream",
     "text": [
      "2018-10-20 21:45:14 INFO: Deploying Dask on 2 nodes.\n",
      "2018-10-20 21:45:14 INFO: Connecting to p1875:51901 (1/2).\n",
      "2018-10-20 21:45:15 INFO: Connecting to p1885:55819 (2/2).\n",
      "2018-10-20 21:45:15 INFO: Deploying scheduler on the first node: p1875.\n",
      "2018-10-20 21:45:24 WARNING: Exception: Unable to determine scheduler address., retry 1/5.\n"
     ]
    },
    {
     "name": "stderr",
     "output_type": "stream",
     "text": [
      "2018-10-20 21:45:38,619| ERROR   | Could not establish connection from ('127.0.0.1', 54674) to remote side of the tunnel\n",
      "2018-10-20 21:45:38,624| ERROR   | Exception: Error reading SSH protocol banner\n",
      "2018-10-20 21:45:38,630| ERROR   | Traceback (most recent call last):\n",
      "2018-10-20 21:45:38,631| ERROR   |   File \"E:\\Anaconda3\\envs\\idact-dev\\lib\\site-packages\\paramiko\\transport.py\", line 2044, in _check_banner\n",
      "2018-10-20 21:45:38,632| ERROR   |     buf = self.packetizer.readline(timeout)\n",
      "2018-10-20 21:45:38,634| ERROR   |   File \"E:\\Anaconda3\\envs\\idact-dev\\lib\\site-packages\\paramiko\\packet.py\", line 353, in readline\n",
      "2018-10-20 21:45:38,636| ERROR   |     buf += self._read_timeout(timeout)\n",
      "2018-10-20 21:45:38,637| ERROR   |   File \"E:\\Anaconda3\\envs\\idact-dev\\lib\\site-packages\\paramiko\\packet.py\", line 542, in _read_timeout\n",
      "2018-10-20 21:45:38,638| ERROR   |     raise EOFError()\n",
      "2018-10-20 21:45:38,639| ERROR   | EOFError\n",
      "2018-10-20 21:45:38,641| ERROR   | \n",
      "2018-10-20 21:45:38,642| ERROR   | During handling of the above exception, another exception occurred:\n",
      "2018-10-20 21:45:38,644| ERROR   | \n",
      "2018-10-20 21:45:38,645| ERROR   | Traceback (most recent call last):\n",
      "2018-10-20 21:45:38,645| ERROR   |   File \"E:\\Anaconda3\\envs\\idact-dev\\lib\\site-packages\\paramiko\\transport.py\", line 1893, in run\n",
      "2018-10-20 21:45:38,646| ERROR   |     self._check_banner()\n",
      "2018-10-20 21:45:38,647| ERROR   |   File \"E:\\Anaconda3\\envs\\idact-dev\\lib\\site-packages\\paramiko\\transport.py\", line 2049, in _check_banner\n",
      "2018-10-20 21:45:38,648| ERROR   |     'Error reading SSH protocol banner' + str(e)\n",
      "2018-10-20 21:45:38,650| ERROR   | paramiko.ssh_exception.SSHException: Error reading SSH protocol banner\n",
      "2018-10-20 21:45:38,651| ERROR   | \n",
      "2018-10-20 21:45:38,653| ERROR   | Could not connect to gateway 127.0.0.1:54674 : Error reading SSH protocol banner\n"
     ]
    },
    {
     "name": "stdout",
     "output_type": "stream",
     "text": [
      "2018-10-20 21:45:38 WARNING: Exception: Could not establish session to SSH gateway, retry 1/3.\n",
      "2018-10-20 21:45:44 INFO: Checking scheduler connectivity from p1875 (1/2).\n",
      "2018-10-20 21:45:44 INFO: Checking scheduler connectivity from p1885 (2/2).\n",
      "2018-10-20 21:45:44 INFO: Deploying workers.\n",
      "2018-10-20 21:45:44 INFO: Deploying worker 1/2.\n"
     ]
    },
    {
     "name": "stderr",
     "output_type": "stream",
     "text": [
      "2018-10-20 21:45:56,135| ERROR   | Could not establish connection from ('127.0.0.1', 54686) to remote side of the tunnel\n",
      "2018-10-20 21:45:56,142| ERROR   | Exception: Error reading SSH protocol banner\n",
      "2018-10-20 21:45:56,153| ERROR   | Traceback (most recent call last):\n",
      "2018-10-20 21:45:56,155| ERROR   |   File \"E:\\Anaconda3\\envs\\idact-dev\\lib\\site-packages\\paramiko\\transport.py\", line 2044, in _check_banner\n",
      "2018-10-20 21:45:56,158| ERROR   |     buf = self.packetizer.readline(timeout)\n",
      "2018-10-20 21:45:56,161| ERROR   |   File \"E:\\Anaconda3\\envs\\idact-dev\\lib\\site-packages\\paramiko\\packet.py\", line 353, in readline\n",
      "2018-10-20 21:45:56,162| ERROR   |     buf += self._read_timeout(timeout)\n",
      "2018-10-20 21:45:56,163| ERROR   |   File \"E:\\Anaconda3\\envs\\idact-dev\\lib\\site-packages\\paramiko\\packet.py\", line 542, in _read_timeout\n",
      "2018-10-20 21:45:56,164| ERROR   |     raise EOFError()\n",
      "2018-10-20 21:45:56,166| ERROR   | EOFError\n",
      "2018-10-20 21:45:56,167| ERROR   | \n",
      "2018-10-20 21:45:56,168| ERROR   | During handling of the above exception, another exception occurred:\n",
      "2018-10-20 21:45:56,169| ERROR   | \n",
      "2018-10-20 21:45:56,171| ERROR   | Traceback (most recent call last):\n",
      "2018-10-20 21:45:56,173| ERROR   |   File \"E:\\Anaconda3\\envs\\idact-dev\\lib\\site-packages\\paramiko\\transport.py\", line 1893, in run\n",
      "2018-10-20 21:45:56,174| ERROR   |     self._check_banner()\n",
      "2018-10-20 21:45:56,175| ERROR   |   File \"E:\\Anaconda3\\envs\\idact-dev\\lib\\site-packages\\paramiko\\transport.py\", line 2049, in _check_banner\n",
      "2018-10-20 21:45:56,176| ERROR   |     'Error reading SSH protocol banner' + str(e)\n",
      "2018-10-20 21:45:56,177| ERROR   | paramiko.ssh_exception.SSHException: Error reading SSH protocol banner\n",
      "2018-10-20 21:45:56,177| ERROR   | \n",
      "2018-10-20 21:45:56,179| ERROR   | Could not connect to gateway 127.0.0.1:54686 : Error reading SSH protocol banner\n"
     ]
    },
    {
     "name": "stdout",
     "output_type": "stream",
     "text": [
      "2018-10-20 21:45:56 WARNING: Exception: Could not establish session to SSH gateway, retry 1/3.\n",
      "2018-10-20 21:46:01 INFO: Deploying worker 2/2.\n",
      "2018-10-20 21:46:11 WARNING: Exception: Cannot run task., retry 1/5.\n",
      "2018-10-20 21:46:18 INFO: Validating worker 1/2.\n",
      "2018-10-20 21:46:18 INFO: Validating worker 2/2.\n"
     ]
    },
    {
     "data": {
      "text/plain": [
       "DaskDeployment(scheduler=tcp://localhost:54672/tcp://172.20.71.90:36580, workers=2)"
      ]
     },
     "execution_count": 46,
     "metadata": {},
     "output_type": "execute_result"
    }
   ],
   "source": [
    "dd = deploy_dask(nodes)\n",
    "dd"
   ]
  },
  {
   "cell_type": "code",
   "execution_count": 47,
   "metadata": {},
   "outputs": [
    {
     "data": {
      "text/plain": [
       "GiB(0.38315582275390625)"
      ]
     },
     "execution_count": 47,
     "metadata": {},
     "output_type": "execute_result"
    }
   ],
   "source": [
    "nodes[0].resources.memory_usage"
   ]
  },
  {
   "cell_type": "markdown",
   "metadata": {},
   "source": [
    "Get Dask client:"
   ]
  },
  {
   "cell_type": "code",
   "execution_count": 48,
   "metadata": {},
   "outputs": [
    {
     "data": {
      "text/html": [
       "<table style=\"border: 2px solid white;\">\n",
       "<tr>\n",
       "<td style=\"vertical-align: top; border: 0px solid white\">\n",
       "<h3>Client</h3>\n",
       "<ul>\n",
       "  <li><b>Scheduler: </b>tcp://localhost:54672\n",
       "  <li><b>Dashboard: </b><a href='http://localhost:37815/status' target='_blank'>http://localhost:37815/status</a>\n",
       "</ul>\n",
       "</td>\n",
       "<td style=\"vertical-align: top; border: 0px solid white\">\n",
       "<h3>Cluster</h3>\n",
       "<ul>\n",
       "  <li><b>Workers: </b>2</li>\n",
       "  <li><b>Cores: </b>4</li>\n",
       "  <li><b>Memory: </b>21.47 GB</li>\n",
       "</ul>\n",
       "</td>\n",
       "</tr>\n",
       "</table>"
      ],
      "text/plain": [
       "<Client: scheduler='tcp://172.20.71.90:36580' processes=2 cores=4>"
      ]
     },
     "execution_count": 48,
     "metadata": {},
     "output_type": "execute_result"
    }
   ],
   "source": [
    "client = dd.get_client()\n",
    "client"
   ]
  },
  {
   "cell_type": "code",
   "execution_count": 49,
   "metadata": {},
   "outputs": [
    {
     "data": {
      "text/plain": [
       "4.0"
      ]
     },
     "execution_count": 49,
     "metadata": {},
     "output_type": "execute_result"
    }
   ],
   "source": [
    "nodes[0].resources.cpu_usage"
   ]
  },
  {
   "cell_type": "markdown",
   "metadata": {},
   "source": [
    "Computation will work only if Python and library versions match:"
   ]
  },
  {
   "cell_type": "code",
   "execution_count": 50,
   "metadata": {},
   "outputs": [],
   "source": [
    "#x = client.submit(lambda: value + 1, 10)\n",
    "#x.result() == 11"
   ]
  },
  {
   "cell_type": "markdown",
   "metadata": {},
   "source": [
    "Diagnostics servers are tunnelled:"
   ]
  },
  {
   "cell_type": "code",
   "execution_count": 51,
   "metadata": {},
   "outputs": [
    {
     "data": {
      "text/plain": [
       "['http://localhost:37815', 'http://localhost:54696', 'http://localhost:54703']"
      ]
     },
     "execution_count": 51,
     "metadata": {},
     "output_type": "execute_result"
    }
   ],
   "source": [
    "dd.diagnostics.addresses"
   ]
  },
  {
   "cell_type": "markdown",
   "metadata": {},
   "source": [
    "To open diagnostics servers in new tabs:"
   ]
  },
  {
   "cell_type": "code",
   "execution_count": 52,
   "metadata": {},
   "outputs": [],
   "source": [
    "dd.diagnostics.open_all()"
   ]
  },
  {
   "cell_type": "code",
   "execution_count": 53,
   "metadata": {},
   "outputs": [
    {
     "name": "stdout",
     "output_type": "stream",
     "text": [
      "2018-10-20 21:46:57 INFO: Cancelling worker deployment on p1885.\n",
      "2018-10-20 21:47:05 INFO: Cancelling worker deployment on p1875.\n",
      "2018-10-20 21:47:13 INFO: Cancelling scheduler deployment on p1875.\n"
     ]
    }
   ],
   "source": [
    "dd.cancel()"
   ]
  },
  {
   "cell_type": "markdown",
   "metadata": {},
   "source": [
    "## Close"
   ]
  },
  {
   "cell_type": "code",
   "execution_count": 54,
   "metadata": {},
   "outputs": [
    {
     "data": {
      "text/plain": [
       "True"
      ]
     },
     "execution_count": 54,
     "metadata": {},
     "output_type": "execute_result"
    }
   ],
   "source": [
    "nodes.running()"
   ]
  },
  {
   "cell_type": "code",
   "execution_count": 55,
   "metadata": {},
   "outputs": [
    {
     "name": "stdout",
     "output_type": "stream",
     "text": [
      "2018-10-20 21:47:22 INFO: Cancelling job 13775764.\n"
     ]
    }
   ],
   "source": [
    "nodes.cancel()"
   ]
  },
  {
   "cell_type": "code",
   "execution_count": 56,
   "metadata": {},
   "outputs": [
    {
     "data": {
      "text/plain": [
       "False"
      ]
     },
     "execution_count": 56,
     "metadata": {},
     "output_type": "execute_result"
    }
   ],
   "source": [
    "nodes.running()"
   ]
  },
  {
   "cell_type": "code",
   "execution_count": 57,
   "metadata": {},
   "outputs": [
    {
     "data": {
      "text/plain": [
       "'JOBID PARTITION     NAME     USER ST       TIME  NODES NODELIST(REASON)\\n          13775764 plgrid-te     wrap plggarst CG       4:53      2 p[1875,1885]'"
      ]
     },
     "execution_count": 57,
     "metadata": {},
     "output_type": "execute_result"
    }
   ],
   "source": [
    "node.run('squeue')"
   ]
  },
  {
   "cell_type": "markdown",
   "metadata": {},
   "source": [
    "## Push and pull the environment"
   ]
  },
  {
   "cell_type": "markdown",
   "metadata": {},
   "source": [
    "When working on a cluster, it may be useful to synchronize idact config with the local machine. Pushing the environment will merge the local environment into the remote environment."
   ]
  },
  {
   "cell_type": "code",
   "execution_count": 58,
   "metadata": {},
   "outputs": [
    {
     "name": "stdout",
     "output_type": "stream",
     "text": [
      "2018-10-20 21:47:32 INFO: Pushing the environment to cluster.\n",
      "2018-10-20 21:47:33 ERROR: Failure: Getting file from node pro.cyfronet.pl: /net/people/plggarstka/.idact-notebook-env\n",
      "2018-10-20 21:47:33 ERROR: Failure: Deserializing the environment from cluster.\n",
      "2018-10-20 21:47:33 INFO: Remote environment is missing, current environment will be copied to cluster.\n"
     ]
    }
   ],
   "source": [
    "push_environment(cluster, path='~/.idact-notebook-env')"
   ]
  },
  {
   "cell_type": "code",
   "execution_count": 59,
   "metadata": {},
   "outputs": [
    {
     "name": "stdout",
     "output_type": "stream",
     "text": [
      "{\n",
      "    \"clusters\": {\n",
      "        \"pro\": {\n",
      "            \"auth\": \"PUBLIC_KEY\",\n",
      "            \"disableSshd\": false,\n",
      "            \"host\": \"pro.cyfronet.pl\",\n",
      "            \"installKey\": true,\n",
      "            \"key\": null,\n",
      "            \"port\": 22,\n",
      "            \"portInfoRetries\": 5,\n",
      "            \"scratch\": \"$SCRATCH\",\n",
      "            \"setupActions\": {\n",
      "                \"dask\": [\n",
      "                    \"module load plgrid/tools/python-intel/3.6.2\"\n",
      "                ],\n",
      "                \"jupyter\": [\n",
      "                    \"module load plgrid/tools/python-intel/3.6.2\"\n",
      "                ]\n",
      "            },\n",
      "            \"user\": \"plggarstka\"\n",
      "        }\n",
      "    },\n",
      "    \"logLevel\": 20\n",
      "}\n"
     ]
    }
   ],
   "source": [
    "print(node.run('cat ~/.idact-notebook-env'))"
   ]
  },
  {
   "cell_type": "markdown",
   "metadata": {},
   "source": [
    "The reverse operation is pulling the environment, which merges the remote environment into the local environment. Machine-specific information like the private key path is skipped when pushing or pulling."
   ]
  },
  {
   "cell_type": "code",
   "execution_count": 60,
   "metadata": {},
   "outputs": [
    {
     "name": "stdout",
     "output_type": "stream",
     "text": [
      "2018-10-20 21:47:38 INFO: Pulling the environment from cluster.\n"
     ]
    }
   ],
   "source": [
    "pull_environment(cluster, path='~/.idact-notebook-env')"
   ]
  },
  {
   "cell_type": "markdown",
   "metadata": {},
   "source": [
    "The 'path' parameter is optional. It defaults to ~/.idact.conf, or the value of the remote IDACT_CONFIG_PATH environment variable."
   ]
  },
  {
   "cell_type": "code",
   "execution_count": 61,
   "metadata": {},
   "outputs": [
    {
     "data": {
      "text/plain": [
       "'removed ‘/net/people/plggarstka/.idact-notebook-env’'"
      ]
     },
     "execution_count": 61,
     "metadata": {},
     "output_type": "execute_result"
    }
   ],
   "source": [
    "node.run('rm -v ~/.idact-notebook-env')"
   ]
  },
  {
   "cell_type": "markdown",
   "metadata": {},
   "source": [
    "## Remove cluster"
   ]
  },
  {
   "cell_type": "markdown",
   "metadata": {},
   "source": [
    "A cluster can be removed from the environment."
   ]
  },
  {
   "cell_type": "code",
   "execution_count": 62,
   "metadata": {},
   "outputs": [
    {
     "name": "stdout",
     "output_type": "stream",
     "text": [
      "2018-10-20 21:47:45 INFO: No auth method specified, defaulting to password-based.\n"
     ]
    },
    {
     "data": {
      "text/plain": [
       "Cluster(fakehost, 2222, fakeuser, auth=AuthMethod.ASK, key=None, install_key=True, disable_sshd=False)"
      ]
     },
     "execution_count": 62,
     "metadata": {},
     "output_type": "execute_result"
    }
   ],
   "source": [
    "add_cluster(name='fake',\n",
    "            user='fakeuser',\n",
    "            host='fakehost',\n",
    "            port=2222)"
   ]
  },
  {
   "cell_type": "code",
   "execution_count": 63,
   "metadata": {},
   "outputs": [
    {
     "data": {
      "text/plain": [
       "{'pro': Cluster(pro.cyfronet.pl, 22, plggarstka, auth=AuthMethod.PUBLIC_KEY, key='E:\\\\shared\\\\uni\\\\eng-project\\\\notebooks\\\\../.notebook-ssh\\\\id_rsa_qk', install_key=False, disable_sshd=False),\n",
       " 'fake': Cluster(fakehost, 2222, fakeuser, auth=AuthMethod.ASK, key=None, install_key=True, disable_sshd=False)}"
      ]
     },
     "execution_count": 63,
     "metadata": {},
     "output_type": "execute_result"
    }
   ],
   "source": [
    "show_clusters()"
   ]
  },
  {
   "cell_type": "code",
   "execution_count": 64,
   "metadata": {},
   "outputs": [],
   "source": [
    "remove_cluster('fake')"
   ]
  },
  {
   "cell_type": "code",
   "execution_count": 65,
   "metadata": {},
   "outputs": [
    {
     "data": {
      "text/plain": [
       "{'pro': Cluster(pro.cyfronet.pl, 22, plggarstka, auth=AuthMethod.PUBLIC_KEY, key='E:\\\\shared\\\\uni\\\\eng-project\\\\notebooks\\\\../.notebook-ssh\\\\id_rsa_qk', install_key=False, disable_sshd=False)}"
      ]
     },
     "execution_count": 65,
     "metadata": {},
     "output_type": "execute_result"
    }
   ],
   "source": [
    "show_clusters()"
   ]
  }
 ],
 "metadata": {
  "kernelspec": {
   "display_name": "Python [default]",
   "language": "python",
   "name": "python3"
  },
  "language_info": {
   "codemirror_mode": {
    "name": "ipython",
    "version": 3
   },
   "file_extension": ".py",
   "mimetype": "text/x-python",
   "name": "python",
   "nbconvert_exporter": "python",
   "pygments_lexer": "ipython3",
   "version": "3.6.5"
  }
 },
 "nbformat": 4,
 "nbformat_minor": 2
}
