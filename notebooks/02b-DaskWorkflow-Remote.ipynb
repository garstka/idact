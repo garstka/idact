{
 "cells": [
  {
   "cell_type": "markdown",
   "metadata": {},
   "source": [
    "# Dask Workflow - Remote"
   ]
  },
  {
   "cell_type": "markdown",
   "metadata": {},
   "source": [
    "This notebook is intended to be executed on the cluster as a continuation of notebook `02a-DaskWorkflow-Local.ipynb`."
   ]
  },
  {
   "cell_type": "markdown",
   "metadata": {},
   "source": [
    "## Initial setup"
   ]
  },
  {
   "cell_type": "markdown",
   "metadata": {},
   "source": [
    "`idact` should be installed using pip, e.g:\n",
    "\n",
    "```\n",
    "module load plgrid/tools/python-intel/3.6.2\n",
    "python3 -m pip install --user git+https://github.com/garstka/eng-project.git\n",
    "```"
   ]
  },
  {
   "cell_type": "code",
   "execution_count": 1,
   "metadata": {},
   "outputs": [],
   "source": [
    "import logging"
   ]
  },
  {
   "cell_type": "markdown",
   "metadata": {},
   "source": [
    "## Load cluster\n",
    "\n",
    "If you pushed the environment from local notebook, this will load it:"
   ]
  },
  {
   "cell_type": "code",
   "execution_count": 2,
   "metadata": {},
   "outputs": [],
   "source": [
    "from idact import *\n",
    "\n",
    "load_environment()"
   ]
  },
  {
   "cell_type": "markdown",
   "metadata": {},
   "source": [
    "Alternatively, use `add_cluster`, as described in notebook 01.\n",
    "\n",
    "Then, show the cluster:"
   ]
  },
  {
   "cell_type": "code",
   "execution_count": 3,
   "metadata": {},
   "outputs": [
    {
     "data": {
      "text/plain": [
       "Cluster(pro.cyfronet.pl, 22, plggarstka, auth=AuthMethod.PUBLIC_KEY, key=None, install_key=True, disable_sshd=False)"
      ]
     },
     "execution_count": 3,
     "metadata": {},
     "output_type": "execute_result"
    }
   ],
   "source": [
    "cluster = show_cluster(\"pro\")  # replace with your cluster name if necessary\n",
    "cluster"
   ]
  },
  {
   "cell_type": "markdown",
   "metadata": {},
   "source": [
    "The following is not necessary if you pushed the environment:"
   ]
  },
  {
   "cell_type": "code",
   "execution_count": 4,
   "metadata": {},
   "outputs": [],
   "source": [
    "set_log_level(logging.INFO)\n",
    "#set_log_level(logging.DEBUG)\n",
    "cluster.config.setup_actions.dask = ['module load plgrid/tools/python-intel/3.6.2']\n",
    "cluster.config.scratch = '$SCRATCH'\n",
    "\n",
    "save_environment()"
   ]
  },
  {
   "cell_type": "code",
   "execution_count": 5,
   "metadata": {},
   "outputs": [
    {
     "data": {
      "text/plain": [
       "Node(pro.cyfronet.pl:22, None)"
      ]
     },
     "execution_count": 5,
     "metadata": {},
     "output_type": "execute_result"
    }
   ],
   "source": [
    "node = cluster.get_access_node()\n",
    "node"
   ]
  },
  {
   "cell_type": "markdown",
   "metadata": {},
   "source": [
    "On your first action, you will be asked for a password to install the key.\n",
    "You can connect explicitly (optional) to do this right now:"
   ]
  },
  {
   "cell_type": "code",
   "execution_count": 6,
   "metadata": {},
   "outputs": [
    {
     "name": "stdout",
     "output_type": "stream",
     "text": [
      "2018-11-02 22:35:31 INFO: Installing key using password authentication.\n",
      "Password for plggarstka@pro.cyfronet.pl:22: \n",
      "2018-11-02 22:35:36 INFO: Private key not specified.\n"
     ]
    }
   ],
   "source": [
    "node.connect()"
   ]
  },
  {
   "cell_type": "code",
   "execution_count": 7,
   "metadata": {},
   "outputs": [
    {
     "data": {
      "text/plain": [
       "'plggarstka'"
      ]
     },
     "execution_count": 7,
     "metadata": {},
     "output_type": "execute_result"
    }
   ],
   "source": [
    "node.run('whoami')"
   ]
  },
  {
   "cell_type": "code",
   "execution_count": 8,
   "metadata": {},
   "outputs": [
    {
     "data": {
      "text/plain": [
       "'login01.pro.cyfronet.pl'"
      ]
     },
     "execution_count": 8,
     "metadata": {},
     "output_type": "execute_result"
    }
   ],
   "source": [
    "node.run('hostname')"
   ]
  },
  {
   "cell_type": "markdown",
   "metadata": {},
   "source": [
    "## Pull nodes deployment"
   ]
  },
  {
   "cell_type": "markdown",
   "metadata": {},
   "source": [
    "To deploy Dask, you will need the allocation from the local notebook:"
   ]
  },
  {
   "cell_type": "code",
   "execution_count": 9,
   "metadata": {},
   "outputs": [
    {
     "name": "stdout",
     "output_type": "stream",
     "text": [
      "2018-11-02 22:35:51 INFO: Pulling deployments.\n",
      "2018-11-02 22:35:54 INFO: Creating the ssh directory.\n",
      "2018-11-02 22:36:00 INFO: Pulled allocation deployment: Nodes([Node(p0653:51136, 2018-11-02 21:54:16.293426+00:00),Node(p0657:56621, 2018-11-02 21:54:16.293426+00:00)], SlurmAllocation(job_id=13969005))\n"
     ]
    },
    {
     "data": {
      "text/plain": [
       "SynchronizedDeployments(nodes=1, jupyter_deployments=0)"
      ]
     },
     "execution_count": 9,
     "metadata": {},
     "output_type": "execute_result"
    }
   ],
   "source": [
    "deployments = cluster.pull_deployments()\n",
    "deployments"
   ]
  },
  {
   "cell_type": "code",
   "execution_count": 10,
   "metadata": {},
   "outputs": [
    {
     "data": {
      "text/plain": [
       "Nodes([Node(p0653:51136, 2018-11-02 21:54:16.293426+00:00),Node(p0657:56621, 2018-11-02 21:54:16.293426+00:00)], SlurmAllocation(job_id=13969005))"
      ]
     },
     "execution_count": 10,
     "metadata": {},
     "output_type": "execute_result"
    }
   ],
   "source": [
    "nodes = deployments.nodes[0]\n",
    "nodes"
   ]
  },
  {
   "cell_type": "markdown",
   "metadata": {},
   "source": [
    "## Deploy Dask"
   ]
  },
  {
   "cell_type": "markdown",
   "metadata": {},
   "source": [
    "One-time config step (cluster-specific):"
   ]
  },
  {
   "cell_type": "code",
   "execution_count": 11,
   "metadata": {},
   "outputs": [
    {
     "name": "stdout",
     "output_type": "stream",
     "text": [
      "2018-11-02 22:36:08 INFO: Deploying Dask on 2 nodes.\n",
      "2018-11-02 22:36:08 INFO: Connecting to p0653:51136 (1/2).\n",
      "2018-11-02 22:36:09 INFO: Connecting to p0657:56621 (2/2).\n",
      "2018-11-02 22:36:10 INFO: Deploying scheduler on the first node: p0653.\n"
     ]
    },
    {
     "name": "stderr",
     "output_type": "stream",
     "text": [
      "2018-11-02 22:36:20,216| ERROR   | Problem setting SSH Forwarder up: Couldn't open tunnel :48170 <> 127.0.0.1:48170 might be in use or destination not reachable\n"
     ]
    },
    {
     "name": "stdout",
     "output_type": "stream",
     "text": [
      "2018-11-02 22:36:20 WARNING: Exception: An error occurred while opening tunnels., retry 1/3.\n"
     ]
    },
    {
     "name": "stderr",
     "output_type": "stream",
     "text": [
      "2018-11-02 22:36:25,382| ERROR   | Problem setting SSH Forwarder up: Couldn't open tunnel :48170 <> 127.0.0.1:48170 might be in use or destination not reachable\n"
     ]
    },
    {
     "name": "stdout",
     "output_type": "stream",
     "text": [
      "2018-11-02 22:36:25 WARNING: Exception: An error occurred while opening tunnels., retry 2/3.\n"
     ]
    },
    {
     "name": "stderr",
     "output_type": "stream",
     "text": [
      "2018-11-02 22:36:30,547| ERROR   | Problem setting SSH Forwarder up: Couldn't open tunnel :48170 <> 127.0.0.1:48170 might be in use or destination not reachable\n"
     ]
    },
    {
     "name": "stdout",
     "output_type": "stream",
     "text": [
      "2018-11-02 22:36:30 WARNING: Exception: An error occurred while opening tunnels., retry 3/3.\n"
     ]
    },
    {
     "name": "stderr",
     "output_type": "stream",
     "text": [
      "2018-11-02 22:36:35,700| ERROR   | Problem setting SSH Forwarder up: Couldn't open tunnel :48170 <> 127.0.0.1:48170 might be in use or destination not reachable\n"
     ]
    },
    {
     "name": "stdout",
     "output_type": "stream",
     "text": [
      "2018-11-02 22:36:35 ERROR: Failure: Adding last hop.\n",
      "2018-11-02 22:36:35 WARNING: Failed to bind scheduler diagnostics tunnel to the same local port as on the node. This is expected, if this host is the scheduler node.\n"
     ]
    },
    {
     "name": "stderr",
     "output_type": "stream",
     "text": [
      "2018-11-02 22:36:36,874| ERROR   | Could not establish connection from ('127.0.0.1', 35261) to remote side of the tunnel\n",
      "2018-11-02 22:36:36,877| ERROR   | Exception: Error reading SSH protocol banner\n",
      "2018-11-02 22:36:36,880| ERROR   | Traceback (most recent call last):\n",
      "2018-11-02 22:36:36,881| ERROR   |   File \"/net/people/plggarstka/.local/lib/python3.6/site-packages/paramiko/transport.py\", line 2138, in _check_banner\n",
      "2018-11-02 22:36:36,882| ERROR   |     buf = self.packetizer.readline(timeout)\n",
      "2018-11-02 22:36:36,884| ERROR   |   File \"/net/people/plggarstka/.local/lib/python3.6/site-packages/paramiko/packet.py\", line 367, in readline\n",
      "2018-11-02 22:36:36,885| ERROR   |     buf += self._read_timeout(timeout)\n",
      "2018-11-02 22:36:36,886| ERROR   |   File \"/net/people/plggarstka/.local/lib/python3.6/site-packages/paramiko/packet.py\", line 563, in _read_timeout\n",
      "2018-11-02 22:36:36,887| ERROR   |     raise EOFError()\n",
      "2018-11-02 22:36:36,888| ERROR   | EOFError\n",
      "2018-11-02 22:36:36,889| ERROR   | \n",
      "2018-11-02 22:36:36,890| ERROR   | During handling of the above exception, another exception occurred:\n",
      "2018-11-02 22:36:36,891| ERROR   | \n",
      "2018-11-02 22:36:36,892| ERROR   | Traceback (most recent call last):\n",
      "2018-11-02 22:36:36,892| ERROR   |   File \"/net/people/plggarstka/.local/lib/python3.6/site-packages/paramiko/transport.py\", line 1966, in run\n",
      "2018-11-02 22:36:36,893| ERROR   |     self._check_banner()\n",
      "2018-11-02 22:36:36,894| ERROR   |   File \"/net/people/plggarstka/.local/lib/python3.6/site-packages/paramiko/transport.py\", line 2143, in _check_banner\n",
      "2018-11-02 22:36:36,894| ERROR   |     \"Error reading SSH protocol banner\" + str(e)\n",
      "2018-11-02 22:36:36,895| ERROR   | paramiko.ssh_exception.SSHException: Error reading SSH protocol banner\n",
      "2018-11-02 22:36:36,896| ERROR   | \n",
      "2018-11-02 22:36:36,897| ERROR   | Could not connect to gateway 127.0.0.1:35261 : Error reading SSH protocol banner\n"
     ]
    },
    {
     "name": "stdout",
     "output_type": "stream",
     "text": [
      "2018-11-02 22:36:36 WARNING: Exception: Could not establish session to SSH gateway, retry 1/3.\n",
      "2018-11-02 22:36:42 INFO: Bound to port 36969 instead.\n",
      "2018-11-02 22:36:42 INFO: Checking scheduler connectivity from p0653 (1/2).\n",
      "2018-11-02 22:36:42 INFO: Checking scheduler connectivity from p0657 (2/2).\n",
      "2018-11-02 22:36:42 INFO: Deploying workers.\n",
      "2018-11-02 22:36:42 INFO: Deploying worker 1/2.\n",
      "2018-11-02 22:36:50 INFO: Deploying worker 2/2.\n",
      "2018-11-02 22:36:58 INFO: Validating worker 1/2.\n",
      "2018-11-02 22:36:58 INFO: Validating worker 2/2.\n"
     ]
    },
    {
     "data": {
      "text/plain": [
       "DaskDeployment(scheduler=tcp://localhost:35492/tcp://172.20.66.143:37209, workers=2)"
      ]
     },
     "execution_count": 11,
     "metadata": {},
     "output_type": "execute_result"
    }
   ],
   "source": [
    "dd = deploy_dask(nodes)\n",
    "dd"
   ]
  },
  {
   "cell_type": "markdown",
   "metadata": {},
   "source": [
    "Get Dask client:"
   ]
  },
  {
   "cell_type": "code",
   "execution_count": 12,
   "metadata": {},
   "outputs": [
    {
     "data": {
      "text/html": [
       "<table style=\"border: 2px solid white;\">\n",
       "<tr>\n",
       "<td style=\"vertical-align: top; border: 0px solid white\">\n",
       "<h3>Client</h3>\n",
       "<ul>\n",
       "  <li><b>Scheduler: </b>tcp://localhost:35492\n",
       "  <li><b>Dashboard: </b><a href='http://localhost:48170/status' target='_blank'>http://localhost:48170/status</a>\n",
       "</ul>\n",
       "</td>\n",
       "<td style=\"vertical-align: top; border: 0px solid white\">\n",
       "<h3>Cluster</h3>\n",
       "<ul>\n",
       "  <li><b>Workers: </b>2</li>\n",
       "  <li><b>Cores: </b>4</li>\n",
       "  <li><b>Memory: </b>21.47 GB</li>\n",
       "</ul>\n",
       "</td>\n",
       "</tr>\n",
       "</table>"
      ],
      "text/plain": [
       "<Client: scheduler='tcp://172.20.66.143:37209' processes=2 cores=4>"
      ]
     },
     "execution_count": 12,
     "metadata": {},
     "output_type": "execute_result"
    }
   ],
   "source": [
    "client = dd.get_client()\n",
    "client"
   ]
  },
  {
   "cell_type": "markdown",
   "metadata": {},
   "source": [
    "Perform a sample computation:"
   ]
  },
  {
   "cell_type": "code",
   "execution_count": 13,
   "metadata": {},
   "outputs": [],
   "source": [
    "x = client.submit(lambda value: value + 1, 10)"
   ]
  },
  {
   "cell_type": "code",
   "execution_count": 14,
   "metadata": {},
   "outputs": [
    {
     "data": {
      "text/plain": [
       "True"
      ]
     },
     "execution_count": 14,
     "metadata": {},
     "output_type": "execute_result"
    }
   ],
   "source": [
    "x.result() == 11"
   ]
  },
  {
   "cell_type": "markdown",
   "metadata": {},
   "source": [
    "Diagnostics servers are tunnelled:"
   ]
  },
  {
   "cell_type": "code",
   "execution_count": 15,
   "metadata": {},
   "outputs": [
    {
     "data": {
      "text/plain": [
       "['http://localhost:36969', 'http://localhost:36552', 'http://localhost:46206']"
      ]
     },
     "execution_count": 15,
     "metadata": {},
     "output_type": "execute_result"
    }
   ],
   "source": [
    "dd.diagnostics.addresses"
   ]
  },
  {
   "cell_type": "markdown",
   "metadata": {},
   "source": [
    "They can't be opened in a browser, because this notebook is on the cluster.\n",
    "\n",
    "See instructions in the local notebook on how to access diagnostics from your local computer."
   ]
  },
  {
   "cell_type": "markdown",
   "metadata": {},
   "source": [
    "## Continue with local notebook"
   ]
  },
  {
   "cell_type": "markdown",
   "metadata": {},
   "source": [
    "Perform the rest of instructions in the local notebook."
   ]
  },
  {
   "cell_type": "markdown",
   "metadata": {},
   "source": [
    "## Cancel Dask deployment"
   ]
  },
  {
   "cell_type": "code",
   "execution_count": 16,
   "metadata": {},
   "outputs": [],
   "source": [
    "client.shutdown()"
   ]
  },
  {
   "cell_type": "code",
   "execution_count": 17,
   "metadata": {},
   "outputs": [
    {
     "name": "stdout",
     "output_type": "stream",
     "text": [
      "2018-11-02 22:38:51 INFO: Cancelling worker deployment on p0657.\n",
      "2018-11-02 22:38:57 INFO: Cancelling worker deployment on p0653.\n",
      "2018-11-02 22:39:03 INFO: Cancelling scheduler deployment on p0653.\n"
     ]
    }
   ],
   "source": [
    "dd.cancel()  # Optional, will be killed when allocation is cancelled."
   ]
  }
 ],
 "metadata": {
  "kernelspec": {
   "display_name": "Python 3",
   "language": "python",
   "name": "python3"
  },
  "language_info": {
   "codemirror_mode": {
    "name": "ipython",
    "version": 3
   },
   "file_extension": ".py",
   "mimetype": "text/x-python",
   "name": "python",
   "nbconvert_exporter": "python",
   "pygments_lexer": "ipython3",
   "version": "3.6.5"
  }
 },
 "nbformat": 4,
 "nbformat_minor": 2
}
