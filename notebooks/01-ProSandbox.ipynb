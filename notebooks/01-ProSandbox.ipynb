{
 "cells": [
  {
   "cell_type": "markdown",
   "metadata": {},
   "source": [
    "# idact - Prometheus sandbox"
   ]
  },
  {
   "cell_type": "markdown",
   "metadata": {},
   "source": [
    "## Initial setup"
   ]
  },
  {
   "cell_type": "markdown",
   "metadata": {},
   "source": [
    "Add `idact` to path:"
   ]
  },
  {
   "cell_type": "code",
   "execution_count": 2,
   "metadata": {},
   "outputs": [],
   "source": [
    "import sys\n",
    "import os\n",
    "import bitmath\n",
    "import getpass\n",
    "import contextlib\n",
    "import fabric\n",
    "import logging\n",
    "import subprocess\n",
    "from pprint import pprint\n",
    "\n",
    "def append_idact_path():\n",
    "    idact_path = os.path.realpath(os.path.join(os.getcwd(), '../'))\n",
    "    sys.path.append(idact_path)\n",
    "append_idact_path()\n",
    "\n",
    "from idact import *\n",
    "from idact.detail.auth.set_password import set_password\n",
    "\n",
    "os.environ['IDACT_KEY_LOCATION'] = os.path.join(os.getcwd(), '../.notebook-ssh')\n",
    "# os.environ['IDACT_KEY_LOCATION'] = os.path.expanduser('~/.ssh')\n",
    "if not os.path.exists(os.environ['IDACT_KEY_LOCATION']):\n",
    "    os.mkdir(os.environ['IDACT_KEY_LOCATION'])\n",
    "\n",
    "USER = 'plggarstka'"
   ]
  },
  {
   "cell_type": "markdown",
   "metadata": {},
   "source": [
    "Hide debug information, setup context manager stack (for testing purposes)"
   ]
  },
  {
   "cell_type": "markdown",
   "metadata": {},
   "source": [
    "## Add cluster (only first run)"
   ]
  },
  {
   "cell_type": "code",
   "execution_count": 3,
   "metadata": {},
   "outputs": [],
   "source": [
    "key = KeyType.RSA  # Generate RSA key\n",
    "# key = os.path.join(os.path.expanduser('~/.ssh'), 'id_rsa')"
   ]
  },
  {
   "cell_type": "code",
   "execution_count": 4,
   "metadata": {},
   "outputs": [
    {
     "name": "stdout",
     "output_type": "stream",
     "text": [
      "2018-10-22 02:25:54 INFO: Generating public-private key pair.\n"
     ]
    }
   ],
   "source": [
    "cluster = add_cluster(name=\"pro\",\n",
    "                      user=USER,\n",
    "                      host=\"pro.cyfronet.pl\",\n",
    "                      port=22,\n",
    "                      auth=AuthMethod.PUBLIC_KEY,\n",
    "                      key=key,\n",
    "                      install_key=True,\n",
    "                      scratch=\"$SCRATCH\")\n",
    "save_environment('.idact-env')"
   ]
  },
  {
   "cell_type": "markdown",
   "metadata": {},
   "source": [
    "## Load cluster (subsequent runs)"
   ]
  },
  {
   "cell_type": "code",
   "execution_count": 5,
   "metadata": {},
   "outputs": [
    {
     "data": {
      "text/plain": [
       "Cluster(pro.cyfronet.pl, 22, plggarstka, auth=AuthMethod.PUBLIC_KEY, key='E:\\\\shared\\\\uni\\\\eng-project\\\\notebooks\\\\../.notebook-ssh\\\\id_rsa_sy', install_key=True, disable_sshd=False)"
      ]
     },
     "execution_count": 5,
     "metadata": {},
     "output_type": "execute_result"
    }
   ],
   "source": [
    "load_environment('.idact-env')\n",
    "cluster = show_cluster(\"pro\")\n",
    "cluster"
   ]
  },
  {
   "cell_type": "code",
   "execution_count": 6,
   "metadata": {},
   "outputs": [],
   "source": [
    "set_log_level(logging.INFO)\n",
    "#set_log_level(logging.DEBUG)\n",
    "save_environment('.idact-env')"
   ]
  },
  {
   "cell_type": "code",
   "execution_count": 7,
   "metadata": {},
   "outputs": [
    {
     "data": {
      "text/plain": [
       "Node(pro.cyfronet.pl:22, None)"
      ]
     },
     "execution_count": 7,
     "metadata": {},
     "output_type": "execute_result"
    }
   ],
   "source": [
    "node = cluster.get_access_node()\n",
    "node"
   ]
  },
  {
   "cell_type": "markdown",
   "metadata": {},
   "source": [
    "On your first action, you will be asked for a password to install the key.\n",
    "You can connect explicitly (optional) to do this right now:"
   ]
  },
  {
   "cell_type": "code",
   "execution_count": 8,
   "metadata": {},
   "outputs": [
    {
     "name": "stdout",
     "output_type": "stream",
     "text": [
      "2018-10-22 02:26:15 INFO: Installing key using password authentication.\n",
      "Password for plggarstka@pro.cyfronet.pl:22: ········\n"
     ]
    }
   ],
   "source": [
    "node.connect()"
   ]
  },
  {
   "cell_type": "code",
   "execution_count": 9,
   "metadata": {},
   "outputs": [
    {
     "data": {
      "text/plain": [
       "'plggarstka'"
      ]
     },
     "execution_count": 9,
     "metadata": {},
     "output_type": "execute_result"
    }
   ],
   "source": [
    "node.run('whoami')"
   ]
  },
  {
   "cell_type": "code",
   "execution_count": 10,
   "metadata": {},
   "outputs": [
    {
     "data": {
      "text/plain": [
       "'login01.pro.cyfronet.pl'"
      ]
     },
     "execution_count": 10,
     "metadata": {},
     "output_type": "execute_result"
    }
   ],
   "source": [
    "node.run('hostname')"
   ]
  },
  {
   "cell_type": "markdown",
   "metadata": {},
   "source": [
    "## Allocate nodes"
   ]
  },
  {
   "cell_type": "code",
   "execution_count": 11,
   "metadata": {},
   "outputs": [
    {
     "name": "stdout",
     "output_type": "stream",
     "text": [
      "2018-10-22 02:26:42 INFO: Creating the ssh directory.\n"
     ]
    }
   ],
   "source": [
    "nodes = cluster.allocate_nodes(nodes=2,\n",
    "                               cores=2,\n",
    "                               memory_per_node=bitmath.GiB(10),\n",
    "                               walltime=Walltime(minutes=20),\n",
    "                               native_args={\n",
    "                                   '--partition': 'plgrid-testing',\n",
    "                                   '--account': 'intdata'\n",
    "                               })"
   ]
  },
  {
   "cell_type": "code",
   "execution_count": 12,
   "metadata": {},
   "outputs": [
    {
     "data": {
      "text/plain": [
       "Nodes([Node(NotAllocated),Node(NotAllocated)], SlurmAllocation(job_id=13791710))"
      ]
     },
     "execution_count": 12,
     "metadata": {},
     "output_type": "execute_result"
    }
   ],
   "source": [
    "nodes"
   ]
  },
  {
   "cell_type": "code",
   "execution_count": 13,
   "metadata": {},
   "outputs": [
    {
     "data": {
      "text/plain": [
       "Nodes([Node(p0118:35295, 2018-10-22 00:46:56.709952+00:00),Node(p0235:52865, 2018-10-22 00:46:56.709952+00:00)], SlurmAllocation(job_id=13791710))"
      ]
     },
     "execution_count": 13,
     "metadata": {},
     "output_type": "execute_result"
    }
   ],
   "source": [
    "nodes.wait()\n",
    "nodes"
   ]
  },
  {
   "cell_type": "markdown",
   "metadata": {},
   "source": [
    "## Run commands"
   ]
  },
  {
   "cell_type": "code",
   "execution_count": 14,
   "metadata": {},
   "outputs": [
    {
     "data": {
      "text/plain": [
       "'plggarstka'"
      ]
     },
     "execution_count": 14,
     "metadata": {},
     "output_type": "execute_result"
    }
   ],
   "source": [
    "nodes[0].run('whoami')"
   ]
  },
  {
   "cell_type": "code",
   "execution_count": 15,
   "metadata": {},
   "outputs": [
    {
     "data": {
      "text/plain": [
       "'p0118'"
      ]
     },
     "execution_count": 15,
     "metadata": {},
     "output_type": "execute_result"
    }
   ],
   "source": [
    "nodes[0].run('hostname')"
   ]
  },
  {
   "cell_type": "code",
   "execution_count": 16,
   "metadata": {},
   "outputs": [
    {
     "data": {
      "text/plain": [
       "'JOBID PARTITION     NAME     USER ST       TIME  NODES NODELIST(REASON)\\n          13791710 plgrid-te     wrap plggarst  R       0:18      2 p[0118,0235]'"
      ]
     },
     "execution_count": 16,
     "metadata": {},
     "output_type": "execute_result"
    }
   ],
   "source": [
    "nodes[1].run('squeue')"
   ]
  },
  {
   "cell_type": "code",
   "execution_count": 17,
   "metadata": {},
   "outputs": [
    {
     "data": {
      "text/plain": [
       "'p0235'"
      ]
     },
     "execution_count": 17,
     "metadata": {},
     "output_type": "execute_result"
    }
   ],
   "source": [
    "nodes[1].run('hostname')"
   ]
  },
  {
   "cell_type": "markdown",
   "metadata": {},
   "source": [
    "## Examine node resources"
   ]
  },
  {
   "cell_type": "code",
   "execution_count": 18,
   "metadata": {},
   "outputs": [
    {
     "data": {
      "text/plain": [
       "GiB(10.0)"
      ]
     },
     "execution_count": 18,
     "metadata": {},
     "output_type": "execute_result"
    }
   ],
   "source": [
    "nodes[0].resources.memory_total"
   ]
  },
  {
   "cell_type": "code",
   "execution_count": 19,
   "metadata": {},
   "outputs": [
    {
     "data": {
      "text/plain": [
       "GiB(0.022457122802734375)"
      ]
     },
     "execution_count": 19,
     "metadata": {},
     "output_type": "execute_result"
    }
   ],
   "source": [
    "nodes[0].resources.memory_usage"
   ]
  },
  {
   "cell_type": "code",
   "execution_count": 20,
   "metadata": {},
   "outputs": [
    {
     "data": {
      "text/plain": [
       "2"
      ]
     },
     "execution_count": 20,
     "metadata": {},
     "output_type": "execute_result"
    }
   ],
   "source": [
    "nodes[0].resources.cpu_cores"
   ]
  },
  {
   "cell_type": "code",
   "execution_count": 21,
   "metadata": {},
   "outputs": [
    {
     "data": {
      "text/plain": [
       "1.0"
      ]
     },
     "execution_count": 21,
     "metadata": {},
     "output_type": "execute_result"
    }
   ],
   "source": [
    "nodes[0].resources.cpu_usage"
   ]
  },
  {
   "cell_type": "markdown",
   "metadata": {},
   "source": [
    "## Tunnel"
   ]
  },
  {
   "cell_type": "code",
   "execution_count": 22,
   "metadata": {},
   "outputs": [
    {
     "name": "stderr",
     "output_type": "stream",
     "text": [
      "2018-10-22 02:27:20,195| ERROR   | Could not establish connection from ('127.0.0.1', 51576) to remote side of the tunnel\n",
      "2018-10-22 02:27:20,197| ERROR   | Exception: Error reading SSH protocol banner\n",
      "2018-10-22 02:27:20,201| ERROR   | Traceback (most recent call last):\n",
      "2018-10-22 02:27:20,202| ERROR   |   File \"E:\\Anaconda3\\envs\\idact-dev\\lib\\site-packages\\paramiko\\transport.py\", line 2044, in _check_banner\n",
      "2018-10-22 02:27:20,202| ERROR   |     buf = self.packetizer.readline(timeout)\n",
      "2018-10-22 02:27:20,203| ERROR   |   File \"E:\\Anaconda3\\envs\\idact-dev\\lib\\site-packages\\paramiko\\packet.py\", line 353, in readline\n",
      "2018-10-22 02:27:20,203| ERROR   |     buf += self._read_timeout(timeout)\n",
      "2018-10-22 02:27:20,204| ERROR   |   File \"E:\\Anaconda3\\envs\\idact-dev\\lib\\site-packages\\paramiko\\packet.py\", line 542, in _read_timeout\n",
      "2018-10-22 02:27:20,204| ERROR   |     raise EOFError()\n",
      "2018-10-22 02:27:20,205| ERROR   | EOFError\n",
      "2018-10-22 02:27:20,205| ERROR   | \n",
      "2018-10-22 02:27:20,206| ERROR   | During handling of the above exception, another exception occurred:\n",
      "2018-10-22 02:27:20,206| ERROR   | \n",
      "2018-10-22 02:27:20,207| ERROR   | Traceback (most recent call last):\n",
      "2018-10-22 02:27:20,207| ERROR   |   File \"E:\\Anaconda3\\envs\\idact-dev\\lib\\site-packages\\paramiko\\transport.py\", line 1893, in run\n",
      "2018-10-22 02:27:20,208| ERROR   |     self._check_banner()\n",
      "2018-10-22 02:27:20,208| ERROR   |   File \"E:\\Anaconda3\\envs\\idact-dev\\lib\\site-packages\\paramiko\\transport.py\", line 2049, in _check_banner\n",
      "2018-10-22 02:27:20,208| ERROR   |     'Error reading SSH protocol banner' + str(e)\n",
      "2018-10-22 02:27:20,209| ERROR   | paramiko.ssh_exception.SSHException: Error reading SSH protocol banner\n",
      "2018-10-22 02:27:20,209| ERROR   | \n",
      "2018-10-22 02:27:20,210| ERROR   | Could not connect to gateway 127.0.0.1:51576 : Error reading SSH protocol banner\n"
     ]
    },
    {
     "name": "stdout",
     "output_type": "stream",
     "text": [
      "2018-10-22 02:27:20 WARNING: Exception: Could not establish session to SSH gateway, retry 1/3.\n"
     ]
    }
   ],
   "source": [
    "tunnel = nodes[0].tunnel(here=9000, there=10000)"
   ]
  },
  {
   "cell_type": "code",
   "execution_count": 23,
   "metadata": {},
   "outputs": [
    {
     "data": {
      "text/plain": [
       "MultiHopTunnel(9000:10000)"
      ]
     },
     "execution_count": 23,
     "metadata": {},
     "output_type": "execute_result"
    }
   ],
   "source": [
    "tunnel"
   ]
  },
  {
   "cell_type": "code",
   "execution_count": 24,
   "metadata": {},
   "outputs": [],
   "source": [
    "tunnel.close()"
   ]
  },
  {
   "cell_type": "markdown",
   "metadata": {},
   "source": [
    "## Deploy notebook"
   ]
  },
  {
   "cell_type": "markdown",
   "metadata": {},
   "source": [
    "One-time config step (cluster-specific):"
   ]
  },
  {
   "cell_type": "code",
   "execution_count": 25,
   "metadata": {},
   "outputs": [],
   "source": [
    "cluster.config.setup_actions.jupyter = ['module load plgrid/tools/python-intel/3.6.2']\n",
    "save_environment('.idact-env')"
   ]
  },
  {
   "cell_type": "markdown",
   "metadata": {},
   "source": [
    "To run Jupyter Notebook on the cluster:"
   ]
  },
  {
   "cell_type": "code",
   "execution_count": 26,
   "metadata": {},
   "outputs": [
    {
     "name": "stderr",
     "output_type": "stream",
     "text": [
      "2018-10-22 02:27:50,666| ERROR   | Could not establish connection from ('127.0.0.1', 51586) to remote side of the tunnel\n",
      "2018-10-22 02:27:50,668| ERROR   | Exception: Error reading SSH protocol banner\n",
      "2018-10-22 02:27:50,670| ERROR   | Traceback (most recent call last):\n",
      "2018-10-22 02:27:50,670| ERROR   |   File \"E:\\Anaconda3\\envs\\idact-dev\\lib\\site-packages\\paramiko\\transport.py\", line 2044, in _check_banner\n",
      "2018-10-22 02:27:50,671| ERROR   |     buf = self.packetizer.readline(timeout)\n",
      "2018-10-22 02:27:50,671| ERROR   |   File \"E:\\Anaconda3\\envs\\idact-dev\\lib\\site-packages\\paramiko\\packet.py\", line 353, in readline\n",
      "2018-10-22 02:27:50,671| ERROR   |     buf += self._read_timeout(timeout)\n",
      "2018-10-22 02:27:50,672| ERROR   |   File \"E:\\Anaconda3\\envs\\idact-dev\\lib\\site-packages\\paramiko\\packet.py\", line 542, in _read_timeout\n",
      "2018-10-22 02:27:50,672| ERROR   |     raise EOFError()\n",
      "2018-10-22 02:27:50,672| ERROR   | EOFError\n",
      "2018-10-22 02:27:50,673| ERROR   | \n",
      "2018-10-22 02:27:50,673| ERROR   | During handling of the above exception, another exception occurred:\n",
      "2018-10-22 02:27:50,673| ERROR   | \n",
      "2018-10-22 02:27:50,674| ERROR   | Traceback (most recent call last):\n",
      "2018-10-22 02:27:50,674| ERROR   |   File \"E:\\Anaconda3\\envs\\idact-dev\\lib\\site-packages\\paramiko\\transport.py\", line 1893, in run\n",
      "2018-10-22 02:27:50,675| ERROR   |     self._check_banner()\n",
      "2018-10-22 02:27:50,675| ERROR   |   File \"E:\\Anaconda3\\envs\\idact-dev\\lib\\site-packages\\paramiko\\transport.py\", line 2049, in _check_banner\n",
      "2018-10-22 02:27:50,675| ERROR   |     'Error reading SSH protocol banner' + str(e)\n",
      "2018-10-22 02:27:50,676| ERROR   | paramiko.ssh_exception.SSHException: Error reading SSH protocol banner\n",
      "2018-10-22 02:27:50,676| ERROR   | \n",
      "2018-10-22 02:27:50,677| ERROR   | Could not connect to gateway 127.0.0.1:51586 : Error reading SSH protocol banner\n"
     ]
    },
    {
     "name": "stdout",
     "output_type": "stream",
     "text": [
      "2018-10-22 02:27:50 WARNING: Exception: Could not establish session to SSH gateway, retry 1/3.\n"
     ]
    },
    {
     "data": {
      "text/plain": [
       "JupyterDeployment(8080 -> Node(p0118:35295, 2018-10-22 00:46:56.709952+00:00)"
      ]
     },
     "execution_count": 26,
     "metadata": {},
     "output_type": "execute_result"
    }
   ],
   "source": [
    "nb = nodes[0].deploy_notebook(local_port=8080)\n",
    "nb"
   ]
  },
  {
   "cell_type": "code",
   "execution_count": 27,
   "metadata": {},
   "outputs": [
    {
     "data": {
      "text/plain": [
       "GiB(0.08470535278320312)"
      ]
     },
     "execution_count": 27,
     "metadata": {},
     "output_type": "execute_result"
    }
   ],
   "source": [
    "nodes[0].resources.memory_usage"
   ]
  },
  {
   "cell_type": "code",
   "execution_count": 28,
   "metadata": {},
   "outputs": [
    {
     "data": {
      "text/plain": [
       "8080"
      ]
     },
     "execution_count": 28,
     "metadata": {},
     "output_type": "execute_result"
    }
   ],
   "source": [
    "nb.local_port"
   ]
  },
  {
   "cell_type": "markdown",
   "metadata": {},
   "source": [
    "To open the deployed notebook server in a new tab:"
   ]
  },
  {
   "cell_type": "code",
   "execution_count": 29,
   "metadata": {},
   "outputs": [],
   "source": [
    "nb.open_in_browser()"
   ]
  },
  {
   "cell_type": "code",
   "execution_count": 30,
   "metadata": {},
   "outputs": [
    {
     "data": {
      "text/plain": [
       "GiB(0.08750152587890625)"
      ]
     },
     "execution_count": 30,
     "metadata": {},
     "output_type": "execute_result"
    }
   ],
   "source": [
    "nodes[0].resources.memory_usage"
   ]
  },
  {
   "cell_type": "markdown",
   "metadata": {},
   "source": [
    "### Push and pull notebook\n",
    "\n",
    "You can access the deployed notebook from multiple places by first pushing it:"
   ]
  },
  {
   "cell_type": "code",
   "execution_count": 31,
   "metadata": {},
   "outputs": [
    {
     "name": "stdout",
     "output_type": "stream",
     "text": [
      "2018-10-22 02:28:29 INFO: Pushing deployment: JupyterDeployment(8080 -> Node(p0118:35295, 2018-10-22 00:46:56.709952+00:00)\n"
     ]
    }
   ],
   "source": [
    "cluster.push_deployment(nb)"
   ]
  },
  {
   "cell_type": "markdown",
   "metadata": {},
   "source": [
    "And then pulling:"
   ]
  },
  {
   "cell_type": "code",
   "execution_count": 32,
   "metadata": {},
   "outputs": [
    {
     "name": "stdout",
     "output_type": "stream",
     "text": [
      "2018-10-22 02:28:44 INFO: Pulling deployments.\n"
     ]
    },
    {
     "name": "stderr",
     "output_type": "stream",
     "text": [
      "2018-10-22 02:29:19,009| ERROR   | Could not open connection to gateway\n"
     ]
    },
    {
     "name": "stdout",
     "output_type": "stream",
     "text": [
      "2018-10-22 02:29:19 WARNING: Exception: Could not establish session to SSH gateway, retry 1/3.\n"
     ]
    },
    {
     "name": "stderr",
     "output_type": "stream",
     "text": [
      "2018-10-22 02:29:26,226| ERROR   | Could not establish connection from ('127.0.0.1', 51616) to remote side of the tunnel\n",
      "2018-10-22 02:29:26,228| ERROR   | Exception: Error reading SSH protocol banner\n",
      "2018-10-22 02:29:26,230| ERROR   | Traceback (most recent call last):\n",
      "2018-10-22 02:29:26,231| ERROR   |   File \"E:\\Anaconda3\\envs\\idact-dev\\lib\\site-packages\\paramiko\\transport.py\", line 2044, in _check_banner\n",
      "2018-10-22 02:29:26,231| ERROR   |     buf = self.packetizer.readline(timeout)\n",
      "2018-10-22 02:29:26,231| ERROR   |   File \"E:\\Anaconda3\\envs\\idact-dev\\lib\\site-packages\\paramiko\\packet.py\", line 353, in readline\n",
      "2018-10-22 02:29:26,232| ERROR   |     buf += self._read_timeout(timeout)\n",
      "2018-10-22 02:29:26,232| ERROR   |   File \"E:\\Anaconda3\\envs\\idact-dev\\lib\\site-packages\\paramiko\\packet.py\", line 542, in _read_timeout\n",
      "2018-10-22 02:29:26,233| ERROR   |     raise EOFError()\n",
      "2018-10-22 02:29:26,233| ERROR   | EOFError\n",
      "2018-10-22 02:29:26,234| ERROR   | \n",
      "2018-10-22 02:29:26,234| ERROR   | During handling of the above exception, another exception occurred:\n",
      "2018-10-22 02:29:26,235| ERROR   | \n",
      "2018-10-22 02:29:26,235| ERROR   | Traceback (most recent call last):\n",
      "2018-10-22 02:29:26,236| ERROR   |   File \"E:\\Anaconda3\\envs\\idact-dev\\lib\\site-packages\\paramiko\\transport.py\", line 1893, in run\n",
      "2018-10-22 02:29:26,236| ERROR   |     self._check_banner()\n",
      "2018-10-22 02:29:26,237| ERROR   |   File \"E:\\Anaconda3\\envs\\idact-dev\\lib\\site-packages\\paramiko\\transport.py\", line 2049, in _check_banner\n",
      "2018-10-22 02:29:26,237| ERROR   |     'Error reading SSH protocol banner' + str(e)\n",
      "2018-10-22 02:29:26,237| ERROR   | paramiko.ssh_exception.SSHException: Error reading SSH protocol banner\n",
      "2018-10-22 02:29:26,238| ERROR   | \n",
      "2018-10-22 02:29:26,238| ERROR   | Could not connect to gateway 127.0.0.1:51616 : Error reading SSH protocol banner\n"
     ]
    },
    {
     "name": "stdout",
     "output_type": "stream",
     "text": [
      "2018-10-22 02:29:26 WARNING: Exception: Could not establish session to SSH gateway, retry 1/3.\n",
      "2018-10-22 02:29:31 INFO: Pulled Jupyter deployment: JupyterDeployment(51625 -> Node(p0118:35295, 2018-10-22 00:46:56.709952+00:00)\n"
     ]
    },
    {
     "data": {
      "text/plain": [
       "[JupyterDeployment(51625 -> Node(p0118:35295, 2018-10-22 00:46:56.709952+00:00)]"
      ]
     },
     "execution_count": 32,
     "metadata": {},
     "output_type": "execute_result"
    }
   ],
   "source": [
    "deployments = cluster.pull_deployments()\n",
    "deployments.jupyter_deployments"
   ]
  },
  {
   "cell_type": "code",
   "execution_count": 33,
   "metadata": {},
   "outputs": [
    {
     "data": {
      "text/plain": [
       "JupyterDeployment(51625 -> Node(p0118:35295, 2018-10-22 00:46:56.709952+00:00)"
      ]
     },
     "execution_count": 33,
     "metadata": {},
     "output_type": "execute_result"
    }
   ],
   "source": [
    "nb_2 = deployments.jupyter_deployments[0]\n",
    "nb_2"
   ]
  },
  {
   "cell_type": "code",
   "execution_count": 34,
   "metadata": {},
   "outputs": [],
   "source": [
    "nb_2.open_in_browser()"
   ]
  },
  {
   "cell_type": "code",
   "execution_count": 35,
   "metadata": {},
   "outputs": [
    {
     "name": "stdout",
     "output_type": "stream",
     "text": [
      "2018-10-22 02:29:46 INFO: Cancelling Jupyter deployment.\n"
     ]
    }
   ],
   "source": [
    "nb_2.cancel()"
   ]
  },
  {
   "cell_type": "markdown",
   "metadata": {},
   "source": [
    "More on pushing and pulling deployments in the next section."
   ]
  },
  {
   "cell_type": "markdown",
   "metadata": {},
   "source": [
    "## Push and pull nodes"
   ]
  },
  {
   "cell_type": "markdown",
   "metadata": {},
   "source": [
    "In order to work with Dask, you would usually need a notebook running on the cluster, as shown above."
   ]
  },
  {
   "cell_type": "markdown",
   "metadata": {},
   "source": [
    "To access the allocated nodes from the cluster, you need to push their deployment first, same as the notebook deployment above:"
   ]
  },
  {
   "cell_type": "code",
   "execution_count": 37,
   "metadata": {},
   "outputs": [
    {
     "name": "stdout",
     "output_type": "stream",
     "text": [
      "2018-10-22 02:32:05 INFO: Pushing deployment: Nodes([Node(p0118:35295, 2018-10-22 00:46:56.709952+00:00),Node(p0235:52865, 2018-10-22 00:46:56.709952+00:00)], SlurmAllocation(job_id=13791710))\n"
     ]
    }
   ],
   "source": [
    "cluster.push_deployment(nodes)"
   ]
  },
  {
   "cell_type": "markdown",
   "metadata": {},
   "source": [
    "Then, you would pull the deployment on the cluster:"
   ]
  },
  {
   "cell_type": "code",
   "execution_count": 38,
   "metadata": {},
   "outputs": [
    {
     "name": "stdout",
     "output_type": "stream",
     "text": [
      "2018-10-22 02:32:31 INFO: Pulling deployments.\n"
     ]
    },
    {
     "name": "stderr",
     "output_type": "stream",
     "text": [
      "2018-10-22 02:32:40,286| ERROR   | Could not establish connection from ('127.0.0.1', 51651) to remote side of the tunnel\n",
      "2018-10-22 02:32:40,288| ERROR   | Exception: Error reading SSH protocol banner\n",
      "2018-10-22 02:32:40,290| ERROR   | Traceback (most recent call last):\n",
      "2018-10-22 02:32:40,291| ERROR   |   File \"E:\\Anaconda3\\envs\\idact-dev\\lib\\site-packages\\paramiko\\transport.py\", line 2044, in _check_banner\n",
      "2018-10-22 02:32:40,291| ERROR   |     buf = self.packetizer.readline(timeout)\n",
      "2018-10-22 02:32:40,292| ERROR   |   File \"E:\\Anaconda3\\envs\\idact-dev\\lib\\site-packages\\paramiko\\packet.py\", line 353, in readline\n",
      "2018-10-22 02:32:40,292| ERROR   |     buf += self._read_timeout(timeout)\n",
      "2018-10-22 02:32:40,292| ERROR   |   File \"E:\\Anaconda3\\envs\\idact-dev\\lib\\site-packages\\paramiko\\packet.py\", line 542, in _read_timeout\n",
      "2018-10-22 02:32:40,293| ERROR   |     raise EOFError()\n",
      "2018-10-22 02:32:40,293| ERROR   | EOFError\n",
      "2018-10-22 02:32:40,293| ERROR   | \n",
      "2018-10-22 02:32:40,294| ERROR   | During handling of the above exception, another exception occurred:\n",
      "2018-10-22 02:32:40,294| ERROR   | \n",
      "2018-10-22 02:32:40,294| ERROR   | Traceback (most recent call last):\n",
      "2018-10-22 02:32:40,295| ERROR   |   File \"E:\\Anaconda3\\envs\\idact-dev\\lib\\site-packages\\paramiko\\transport.py\", line 1893, in run\n",
      "2018-10-22 02:32:40,295| ERROR   |     self._check_banner()\n",
      "2018-10-22 02:32:40,295| ERROR   |   File \"E:\\Anaconda3\\envs\\idact-dev\\lib\\site-packages\\paramiko\\transport.py\", line 2049, in _check_banner\n",
      "2018-10-22 02:32:40,296| ERROR   |     'Error reading SSH protocol banner' + str(e)\n",
      "2018-10-22 02:32:40,296| ERROR   | paramiko.ssh_exception.SSHException: Error reading SSH protocol banner\n",
      "2018-10-22 02:32:40,296| ERROR   | \n",
      "2018-10-22 02:32:40,297| ERROR   | Could not connect to gateway 127.0.0.1:51651 : Error reading SSH protocol banner\n"
     ]
    },
    {
     "name": "stdout",
     "output_type": "stream",
     "text": [
      "2018-10-22 02:32:40 WARNING: Exception: Could not establish session to SSH gateway, retry 1/3.\n",
      "2018-10-22 02:32:45 INFO: Pulled allocation deployment: Nodes([Node(p0118:35295, 2018-10-22 00:46:56.709952+00:00),Node(p0235:52865, 2018-10-22 00:46:56.709952+00:00)], SlurmAllocation(job_id=13791710))\n",
      "2018-10-22 02:32:45 INFO: Pulled Jupyter deployment: JupyterDeployment(51660 -> Node(p0118:35295, 2018-10-22 00:46:56.709952+00:00)\n"
     ]
    },
    {
     "name": "stderr",
     "output_type": "stream",
     "text": [
      "2018-10-22 02:32:48,664| ERROR   | Secsh channel 0 open FAILED: Connection refused: Connect failed\n",
      "2018-10-22 02:32:48,667| ERROR   | Could not establish connection from ('127.0.0.1', 51660) to remote side of the tunnel\n"
     ]
    },
    {
     "name": "stdout",
     "output_type": "stream",
     "text": [
      "2018-10-22 02:32:48 WARNING: Exception: ('Connection aborted.', RemoteDisconnected('Remote end closed connection without response',)), retry 1/3.\n"
     ]
    },
    {
     "name": "stderr",
     "output_type": "stream",
     "text": [
      "2018-10-22 02:32:50,848| ERROR   | Secsh channel 1 open FAILED: Connection refused: Connect failed\n",
      "2018-10-22 02:32:50,848| ERROR   | Could not establish connection from ('127.0.0.1', 51660) to remote side of the tunnel\n"
     ]
    },
    {
     "name": "stdout",
     "output_type": "stream",
     "text": [
      "2018-10-22 02:32:50 WARNING: Exception: ('Connection aborted.', RemoteDisconnected('Remote end closed connection without response',)), retry 2/3.\n"
     ]
    },
    {
     "name": "stderr",
     "output_type": "stream",
     "text": [
      "2018-10-22 02:32:52,924| ERROR   | Secsh channel 2 open FAILED: Connection refused: Connect failed\n",
      "2018-10-22 02:32:52,925| ERROR   | Could not establish connection from ('127.0.0.1', 51660) to remote side of the tunnel\n"
     ]
    },
    {
     "name": "stdout",
     "output_type": "stream",
     "text": [
      "2018-10-22 02:32:52 WARNING: Exception: ('Connection aborted.', RemoteDisconnected('Remote end closed connection without response',)), retry 3/3.\n"
     ]
    },
    {
     "name": "stderr",
     "output_type": "stream",
     "text": [
      "2018-10-22 02:32:54,961| ERROR   | Secsh channel 3 open FAILED: Connection refused: Connect failed\n",
      "2018-10-22 02:32:54,962| ERROR   | Could not establish connection from ('127.0.0.1', 51660) to remote side of the tunnel\n"
     ]
    },
    {
     "name": "stdout",
     "output_type": "stream",
     "text": [
      "2018-10-22 02:32:54 WARNING: Discarding a Jupyter deployment,  because it is no longer functional: JupyterDeployment(51660 -> Node(p0118:35295, 2018-10-22 00:46:56.709952+00:00). Exception: ('Connection aborted.', RemoteDisconnected('Remote end closed connection without response',)).\n"
     ]
    },
    {
     "data": {
      "text/plain": [
       "SynchronizedDeployments(nodes=1, jupyter_deployments=0)"
      ]
     },
     "execution_count": 38,
     "metadata": {},
     "output_type": "execute_result"
    }
   ],
   "source": [
    "deployments = cluster.pull_deployments()\n",
    "deployments"
   ]
  },
  {
   "cell_type": "code",
   "execution_count": 39,
   "metadata": {},
   "outputs": [
    {
     "data": {
      "text/plain": [
       "Nodes([Node(p0118:35295, 2018-10-22 00:46:56.709952+00:00),Node(p0235:52865, 2018-10-22 00:46:56.709952+00:00)], SlurmAllocation(job_id=13791710))"
      ]
     },
     "execution_count": 39,
     "metadata": {},
     "output_type": "execute_result"
    }
   ],
   "source": [
    "nodes = deployments.nodes[0]\n",
    "nodes"
   ]
  },
  {
   "cell_type": "markdown",
   "metadata": {},
   "source": [
    "Essentially, this feature is intended for using an allocation in multiple notebooks at once."
   ]
  },
  {
   "cell_type": "markdown",
   "metadata": {},
   "source": [
    "Deployments are cleared automatically if they are expired or cancelled. They can also be cleared manually by  running:"
   ]
  },
  {
   "cell_type": "code",
   "execution_count": 40,
   "metadata": {},
   "outputs": [
    {
     "name": "stdout",
     "output_type": "stream",
     "text": [
      "2018-10-22 02:33:08 INFO: Clearing deployments.\n"
     ]
    }
   ],
   "source": [
    "cluster.clear_pushed_deployments()"
   ]
  },
  {
   "cell_type": "markdown",
   "metadata": {},
   "source": [
    "## idact-notebook app"
   ]
  },
  {
   "cell_type": "markdown",
   "metadata": {},
   "source": [
    "You can deploy nodes and notebook automatically using the following command:\n",
    "```\n",
    "idact-notebook\n",
    "```\n",
    "or its equivalent, if you didn't install idact using pip:\n",
    "```\n",
    "python -m idact.notebook\n",
    "```\n",
    "Help message:"
   ]
  },
  {
   "cell_type": "code",
   "execution_count": 41,
   "metadata": {},
   "outputs": [
    {
     "name": "stdout",
     "output_type": "stream",
     "text": [
      "Usage: notebook.py [OPTIONS] CLUSTER_NAME\n",
      "\n",
      "  A console script that executes a Jupyter Notebook instance on an allocated\n",
      "  cluster node, and makes it accessible in the local browser.\n",
      "\n",
      "  CLUSTER_NAME argument is the cluster name to execute the notebook on. It\n",
      "  must already be present in the config file.\n",
      "\n",
      "Options:\n",
      "  -e, --environment TEXT  Environment path. Default: ~/.idact.conf or the\n",
      "                          value of IDACT_CONFIG_PATH.\n",
      "  --save-defaults         Save allocation parameters as defaults for next\n",
      "                          time.\n",
      "  --reset-defaults        Reset unspecified allocation parameters to defaults.\n",
      "  --nodes INTEGER         Cluster node count. [Allocation parameter]. Jupyter\n",
      "                          notebook will be deployed on the first node.\n",
      "                          Default: 1.\n",
      "  --cores INTEGER         CPU core count per node. [Allocation parameter].\n",
      "                          Default: 1\n",
      "  --memory-per-node TEXT  Memory per node. [Allocation parameter]. Default:\n",
      "                          1GiB\n",
      "  --walltime TEXT         Maximum time to allocate the resources for. Format:\n",
      "                          [days-]hours:minutes:seconds. [Allocation\n",
      "                          parameter]. Default: 0:10:00\n",
      "  --native-arg TEXT...    Native arguments for the workload manager. Values\n",
      "                          are not validated. Supported arguments take\n",
      "                          precedence over native arguments. Arguments with\n",
      "                          None as value are treated as flags. Arguments\n",
      "                          specified later override earlier arguments.\n",
      "                          [Allocation parameter]. Default: No native\n",
      "                          arguments.\n",
      "  --help                  Show this message and exit.\n"
     ]
    }
   ],
   "source": [
    "help_message = subprocess.getoutput(\n",
    "    \"cd .. && {python} -m idact.notebook --help\".format(\n",
    "        python=sys.executable))\n",
    "print(help_message)"
   ]
  },
  {
   "cell_type": "markdown",
   "metadata": {},
   "source": [
    "For example, to deploy a notebook on a cluster with the same parameters as above, you could call:\n",
    "\n",
    "```\n",
    "python -m idact.notebook pro --save-defaults --environment notebooks/.idact-env --nodes 2 --cores 2 --memory-per-node 10GiB --walltime 0:20:00 --native-arg --partition plgrid-testing --native-arg --account intdata\n",
    "```"
   ]
  },
  {
   "cell_type": "markdown",
   "metadata": {},
   "source": [
    "The flag `--save-defaults` is optional, but it saves the allocation parameters: next time, the following will have the same effect:\n",
    "```\n",
    "python -m idact.notebook pro --environment notebooks/.idact-env\n",
    "```\n",
    "The `--environment` argument is optional if you use the default environment location.\n",
    "\n",
    "The allocation and notebook the application deploys can be pulled from the cluster."
   ]
  },
  {
   "cell_type": "markdown",
   "metadata": {},
   "source": [
    "## Deploy Dask"
   ]
  },
  {
   "cell_type": "markdown",
   "metadata": {},
   "source": [
    "One-time config step (cluster-specific):"
   ]
  },
  {
   "cell_type": "code",
   "execution_count": 42,
   "metadata": {},
   "outputs": [],
   "source": [
    "cluster.config.setup_actions.dask = ['module load plgrid/tools/python-intel/3.6.2']\n",
    "cluster.config.scratch = '$SCRATCH'\n",
    "save_environment('.idact-env')"
   ]
  },
  {
   "cell_type": "code",
   "execution_count": 43,
   "metadata": {},
   "outputs": [
    {
     "name": "stdout",
     "output_type": "stream",
     "text": [
      "2018-10-22 02:33:48 INFO: Deploying Dask on 2 nodes.\n",
      "2018-10-22 02:33:48 INFO: Connecting to p0118:35295 (1/2).\n",
      "2018-10-22 02:33:48 INFO: Connecting to p0235:52865 (2/2).\n",
      "2018-10-22 02:33:48 INFO: Deploying scheduler on the first node: p0118.\n",
      "2018-10-22 02:33:58 WARNING: Exception: Unable to determine scheduler address., retry 1/5.\n"
     ]
    },
    {
     "name": "stderr",
     "output_type": "stream",
     "text": [
      "2018-10-22 02:34:05,824| ERROR   | Could not establish connection from ('127.0.0.1', 51678) to remote side of the tunnel\n",
      "2018-10-22 02:34:05,826| ERROR   | Exception: Error reading SSH protocol banner\n",
      "2018-10-22 02:34:05,829| ERROR   | Traceback (most recent call last):\n",
      "2018-10-22 02:34:05,829| ERROR   |   File \"E:\\Anaconda3\\envs\\idact-dev\\lib\\site-packages\\paramiko\\transport.py\", line 2044, in _check_banner\n",
      "2018-10-22 02:34:05,830| ERROR   |     buf = self.packetizer.readline(timeout)\n",
      "2018-10-22 02:34:05,830| ERROR   |   File \"E:\\Anaconda3\\envs\\idact-dev\\lib\\site-packages\\paramiko\\packet.py\", line 353, in readline\n",
      "2018-10-22 02:34:05,831| ERROR   |     buf += self._read_timeout(timeout)\n",
      "2018-10-22 02:34:05,831| ERROR   |   File \"E:\\Anaconda3\\envs\\idact-dev\\lib\\site-packages\\paramiko\\packet.py\", line 542, in _read_timeout\n",
      "2018-10-22 02:34:05,831| ERROR   |     raise EOFError()\n",
      "2018-10-22 02:34:05,832| ERROR   | EOFError\n",
      "2018-10-22 02:34:05,832| ERROR   | \n",
      "2018-10-22 02:34:05,832| ERROR   | During handling of the above exception, another exception occurred:\n",
      "2018-10-22 02:34:05,833| ERROR   | \n",
      "2018-10-22 02:34:05,833| ERROR   | Traceback (most recent call last):\n",
      "2018-10-22 02:34:05,834| ERROR   |   File \"E:\\Anaconda3\\envs\\idact-dev\\lib\\site-packages\\paramiko\\transport.py\", line 1893, in run\n",
      "2018-10-22 02:34:05,834| ERROR   |     self._check_banner()\n",
      "2018-10-22 02:34:05,834| ERROR   |   File \"E:\\Anaconda3\\envs\\idact-dev\\lib\\site-packages\\paramiko\\transport.py\", line 2049, in _check_banner\n",
      "2018-10-22 02:34:05,835| ERROR   |     'Error reading SSH protocol banner' + str(e)\n",
      "2018-10-22 02:34:05,835| ERROR   | paramiko.ssh_exception.SSHException: Error reading SSH protocol banner\n",
      "2018-10-22 02:34:05,835| ERROR   | \n",
      "2018-10-22 02:34:05,836| ERROR   | Could not connect to gateway 127.0.0.1:51678 : Error reading SSH protocol banner\n"
     ]
    },
    {
     "name": "stdout",
     "output_type": "stream",
     "text": [
      "2018-10-22 02:34:05 WARNING: Exception: Could not establish session to SSH gateway, retry 1/3.\n"
     ]
    },
    {
     "name": "stderr",
     "output_type": "stream",
     "text": [
      "2018-10-22 02:34:12,645| ERROR   | Could not establish connection from ('127.0.0.1', 51689) to remote side of the tunnel\n",
      "2018-10-22 02:34:12,647| ERROR   | Exception: Error reading SSH protocol banner\n",
      "2018-10-22 02:34:12,649| ERROR   | Traceback (most recent call last):\n",
      "2018-10-22 02:34:12,650| ERROR   |   File \"E:\\Anaconda3\\envs\\idact-dev\\lib\\site-packages\\paramiko\\transport.py\", line 2044, in _check_banner\n",
      "2018-10-22 02:34:12,650| ERROR   |     buf = self.packetizer.readline(timeout)\n",
      "2018-10-22 02:34:12,651| ERROR   |   File \"E:\\Anaconda3\\envs\\idact-dev\\lib\\site-packages\\paramiko\\packet.py\", line 353, in readline\n",
      "2018-10-22 02:34:12,651| ERROR   |     buf += self._read_timeout(timeout)\n",
      "2018-10-22 02:34:12,652| ERROR   |   File \"E:\\Anaconda3\\envs\\idact-dev\\lib\\site-packages\\paramiko\\packet.py\", line 542, in _read_timeout\n",
      "2018-10-22 02:34:12,652| ERROR   |     raise EOFError()\n",
      "2018-10-22 02:34:12,652| ERROR   | EOFError\n",
      "2018-10-22 02:34:12,653| ERROR   | \n",
      "2018-10-22 02:34:12,653| ERROR   | During handling of the above exception, another exception occurred:\n",
      "2018-10-22 02:34:12,654| ERROR   | \n",
      "2018-10-22 02:34:12,654| ERROR   | Traceback (most recent call last):\n",
      "2018-10-22 02:34:12,654| ERROR   |   File \"E:\\Anaconda3\\envs\\idact-dev\\lib\\site-packages\\paramiko\\transport.py\", line 1893, in run\n",
      "2018-10-22 02:34:12,655| ERROR   |     self._check_banner()\n",
      "2018-10-22 02:34:12,655| ERROR   |   File \"E:\\Anaconda3\\envs\\idact-dev\\lib\\site-packages\\paramiko\\transport.py\", line 2049, in _check_banner\n",
      "2018-10-22 02:34:12,655| ERROR   |     'Error reading SSH protocol banner' + str(e)\n",
      "2018-10-22 02:34:12,656| ERROR   | paramiko.ssh_exception.SSHException: Error reading SSH protocol banner\n",
      "2018-10-22 02:34:12,656| ERROR   | \n",
      "2018-10-22 02:34:12,657| ERROR   | Could not connect to gateway 127.0.0.1:51689 : Error reading SSH protocol banner\n"
     ]
    },
    {
     "name": "stdout",
     "output_type": "stream",
     "text": [
      "2018-10-22 02:34:12 WARNING: Exception: Could not establish session to SSH gateway, retry 1/3.\n",
      "2018-10-22 02:34:18 INFO: Checking scheduler connectivity from p0118 (1/2).\n",
      "2018-10-22 02:34:18 INFO: Checking scheduler connectivity from p0235 (2/2).\n",
      "2018-10-22 02:34:20 INFO: Deploying workers.\n",
      "2018-10-22 02:34:20 INFO: Deploying worker 1/2.\n"
     ]
    },
    {
     "name": "stderr",
     "output_type": "stream",
     "text": [
      "2018-10-22 02:35:04,520| ERROR   | Could not open connection to gateway\n"
     ]
    },
    {
     "name": "stdout",
     "output_type": "stream",
     "text": [
      "2018-10-22 02:35:04 WARNING: Exception: Could not establish session to SSH gateway, retry 1/3.\n"
     ]
    },
    {
     "name": "stderr",
     "output_type": "stream",
     "text": [
      "2018-10-22 02:35:19,743| ERROR   | Could not establish connection from ('127.0.0.1', 51701) to remote side of the tunnel\n",
      "2018-10-22 02:35:19,745| ERROR   | Exception: Error reading SSH protocol banner\n",
      "2018-10-22 02:35:19,748| ERROR   | Traceback (most recent call last):\n",
      "2018-10-22 02:35:19,748| ERROR   |   File \"E:\\Anaconda3\\envs\\idact-dev\\lib\\site-packages\\paramiko\\transport.py\", line 2044, in _check_banner\n",
      "2018-10-22 02:35:19,749| ERROR   |     buf = self.packetizer.readline(timeout)\n",
      "2018-10-22 02:35:19,749| ERROR   |   File \"E:\\Anaconda3\\envs\\idact-dev\\lib\\site-packages\\paramiko\\packet.py\", line 353, in readline\n",
      "2018-10-22 02:35:19,749| ERROR   |     buf += self._read_timeout(timeout)\n",
      "2018-10-22 02:35:19,750| ERROR   |   File \"E:\\Anaconda3\\envs\\idact-dev\\lib\\site-packages\\paramiko\\packet.py\", line 542, in _read_timeout\n",
      "2018-10-22 02:35:19,750| ERROR   |     raise EOFError()\n",
      "2018-10-22 02:35:19,751| ERROR   | EOFError\n",
      "2018-10-22 02:35:19,751| ERROR   | \n",
      "2018-10-22 02:35:19,751| ERROR   | During handling of the above exception, another exception occurred:\n",
      "2018-10-22 02:35:19,752| ERROR   | \n",
      "2018-10-22 02:35:19,752| ERROR   | Traceback (most recent call last):\n",
      "2018-10-22 02:35:19,752| ERROR   |   File \"E:\\Anaconda3\\envs\\idact-dev\\lib\\site-packages\\paramiko\\transport.py\", line 1893, in run\n",
      "2018-10-22 02:35:19,753| ERROR   |     self._check_banner()\n",
      "2018-10-22 02:35:19,753| ERROR   |   File \"E:\\Anaconda3\\envs\\idact-dev\\lib\\site-packages\\paramiko\\transport.py\", line 2049, in _check_banner\n",
      "2018-10-22 02:35:19,753| ERROR   |     'Error reading SSH protocol banner' + str(e)\n",
      "2018-10-22 02:35:19,754| ERROR   | paramiko.ssh_exception.SSHException: Error reading SSH protocol banner\n",
      "2018-10-22 02:35:19,754| ERROR   | \n",
      "2018-10-22 02:35:19,755| ERROR   | Could not connect to gateway 127.0.0.1:51701 : Error reading SSH protocol banner\n"
     ]
    },
    {
     "name": "stdout",
     "output_type": "stream",
     "text": [
      "2018-10-22 02:35:19 WARNING: Exception: Could not establish session to SSH gateway, retry 1/3.\n",
      "2018-10-22 02:35:25 INFO: Deploying worker 2/2.\n",
      "2018-10-22 02:35:45 INFO: Validating worker 1/2.\n",
      "2018-10-22 02:35:45 INFO: Validating worker 2/2.\n"
     ]
    },
    {
     "data": {
      "text/plain": [
       "DaskDeployment(scheduler=tcp://localhost:51687/tcp://172.20.64.118:59560, workers=2)"
      ]
     },
     "execution_count": 43,
     "metadata": {},
     "output_type": "execute_result"
    }
   ],
   "source": [
    "dd = deploy_dask(nodes)\n",
    "dd"
   ]
  },
  {
   "cell_type": "code",
   "execution_count": 44,
   "metadata": {},
   "outputs": [
    {
     "data": {
      "text/plain": [
       "GiB(0.3794097900390625)"
      ]
     },
     "execution_count": 44,
     "metadata": {},
     "output_type": "execute_result"
    }
   ],
   "source": [
    "nodes[0].resources.memory_usage"
   ]
  },
  {
   "cell_type": "markdown",
   "metadata": {},
   "source": [
    "Get Dask client:"
   ]
  },
  {
   "cell_type": "code",
   "execution_count": 45,
   "metadata": {},
   "outputs": [
    {
     "data": {
      "text/html": [
       "<table style=\"border: 2px solid white;\">\n",
       "<tr>\n",
       "<td style=\"vertical-align: top; border: 0px solid white\">\n",
       "<h3>Client</h3>\n",
       "<ul>\n",
       "  <li><b>Scheduler: </b>tcp://localhost:51687\n",
       "  <li><b>Dashboard: </b><a href='http://localhost:54189/status' target='_blank'>http://localhost:54189/status</a>\n",
       "</ul>\n",
       "</td>\n",
       "<td style=\"vertical-align: top; border: 0px solid white\">\n",
       "<h3>Cluster</h3>\n",
       "<ul>\n",
       "  <li><b>Workers: </b>2</li>\n",
       "  <li><b>Cores: </b>4</li>\n",
       "  <li><b>Memory: </b>21.47 GB</li>\n",
       "</ul>\n",
       "</td>\n",
       "</tr>\n",
       "</table>"
      ],
      "text/plain": [
       "<Client: scheduler='tcp://172.20.64.118:59560' processes=2 cores=4>"
      ]
     },
     "execution_count": 45,
     "metadata": {},
     "output_type": "execute_result"
    }
   ],
   "source": [
    "client = dd.get_client()\n",
    "client"
   ]
  },
  {
   "cell_type": "code",
   "execution_count": 46,
   "metadata": {},
   "outputs": [
    {
     "data": {
      "text/plain": [
       "5.0"
      ]
     },
     "execution_count": 46,
     "metadata": {},
     "output_type": "execute_result"
    }
   ],
   "source": [
    "nodes[0].resources.cpu_usage"
   ]
  },
  {
   "cell_type": "markdown",
   "metadata": {},
   "source": [
    "Computation will work only if Python and library versions match:"
   ]
  },
  {
   "cell_type": "code",
   "execution_count": 47,
   "metadata": {},
   "outputs": [],
   "source": [
    "#x = client.submit(lambda: value + 1, 10)\n",
    "#x.result() == 11"
   ]
  },
  {
   "cell_type": "markdown",
   "metadata": {},
   "source": [
    "Diagnostics servers are tunnelled:"
   ]
  },
  {
   "cell_type": "code",
   "execution_count": 48,
   "metadata": {},
   "outputs": [
    {
     "data": {
      "text/plain": [
       "['http://localhost:54189', 'http://localhost:51710', 'http://localhost:51716']"
      ]
     },
     "execution_count": 48,
     "metadata": {},
     "output_type": "execute_result"
    }
   ],
   "source": [
    "dd.diagnostics.addresses"
   ]
  },
  {
   "cell_type": "markdown",
   "metadata": {},
   "source": [
    "To open diagnostics servers in new tabs:"
   ]
  },
  {
   "cell_type": "code",
   "execution_count": 49,
   "metadata": {},
   "outputs": [],
   "source": [
    "dd.diagnostics.open_all()"
   ]
  },
  {
   "cell_type": "code",
   "execution_count": 50,
   "metadata": {},
   "outputs": [
    {
     "name": "stdout",
     "output_type": "stream",
     "text": [
      "2018-10-22 02:36:45 INFO: Cancelling worker deployment on p0235.\n",
      "2018-10-22 02:36:52 INFO: Cancelling worker deployment on p0118.\n",
      "2018-10-22 02:36:59 INFO: Cancelling scheduler deployment on p0118.\n"
     ]
    }
   ],
   "source": [
    "dd.cancel()"
   ]
  },
  {
   "cell_type": "markdown",
   "metadata": {},
   "source": [
    "## Close"
   ]
  },
  {
   "cell_type": "code",
   "execution_count": 51,
   "metadata": {},
   "outputs": [
    {
     "data": {
      "text/plain": [
       "True"
      ]
     },
     "execution_count": 51,
     "metadata": {},
     "output_type": "execute_result"
    }
   ],
   "source": [
    "nodes.running()"
   ]
  },
  {
   "cell_type": "code",
   "execution_count": 52,
   "metadata": {},
   "outputs": [
    {
     "name": "stdout",
     "output_type": "stream",
     "text": [
      "2018-10-22 02:37:15 INFO: Cancelling job 13791710.\n"
     ]
    }
   ],
   "source": [
    "nodes.cancel()"
   ]
  },
  {
   "cell_type": "code",
   "execution_count": 53,
   "metadata": {},
   "outputs": [
    {
     "data": {
      "text/plain": [
       "False"
      ]
     },
     "execution_count": 53,
     "metadata": {},
     "output_type": "execute_result"
    }
   ],
   "source": [
    "nodes.running()"
   ]
  },
  {
   "cell_type": "code",
   "execution_count": 54,
   "metadata": {},
   "outputs": [
    {
     "data": {
      "text/plain": [
       "'JOBID PARTITION     NAME     USER ST       TIME  NODES NODELIST(REASON)'"
      ]
     },
     "execution_count": 54,
     "metadata": {},
     "output_type": "execute_result"
    }
   ],
   "source": [
    "node.run('squeue')"
   ]
  },
  {
   "cell_type": "markdown",
   "metadata": {},
   "source": [
    "## Push and pull the environment"
   ]
  },
  {
   "cell_type": "markdown",
   "metadata": {},
   "source": [
    "When working on a cluster, it may be useful to synchronize idact config with the local machine. Pushing the environment will merge the local environment into the remote environment."
   ]
  },
  {
   "cell_type": "code",
   "execution_count": 55,
   "metadata": {},
   "outputs": [
    {
     "name": "stdout",
     "output_type": "stream",
     "text": [
      "2018-10-22 02:37:24 INFO: Pushing the environment to cluster.\n",
      "2018-10-22 02:37:26 ERROR: Failure: Getting file from node pro.cyfronet.pl: /net/people/plggarstka/.idact-notebook-env\n",
      "2018-10-22 02:37:26 ERROR: Failure: Deserializing the environment from cluster.\n",
      "2018-10-22 02:37:26 INFO: Remote environment is missing, current environment will be copied to cluster.\n"
     ]
    }
   ],
   "source": [
    "push_environment(cluster, path='~/.idact-notebook-env')"
   ]
  },
  {
   "cell_type": "code",
   "execution_count": 56,
   "metadata": {},
   "outputs": [
    {
     "name": "stdout",
     "output_type": "stream",
     "text": [
      "{\n",
      "    \"clusters\": {\n",
      "        \"pro\": {\n",
      "            \"auth\": \"PUBLIC_KEY\",\n",
      "            \"disableSshd\": false,\n",
      "            \"host\": \"pro.cyfronet.pl\",\n",
      "            \"installKey\": true,\n",
      "            \"key\": null,\n",
      "            \"notebookDefaults\": {},\n",
      "            \"port\": 22,\n",
      "            \"portInfoRetries\": 5,\n",
      "            \"scratch\": \"$SCRATCH\",\n",
      "            \"setupActions\": {\n",
      "                \"dask\": [\n",
      "                    \"module load plgrid/tools/python-intel/3.6.2\"\n",
      "                ],\n",
      "                \"jupyter\": [\n",
      "                    \"module load plgrid/tools/python-intel/3.6.2\"\n",
      "                ]\n",
      "            },\n",
      "            \"user\": \"plggarstka\"\n",
      "        }\n",
      "    },\n",
      "    \"logLevel\": 20\n",
      "}\n"
     ]
    }
   ],
   "source": [
    "print(node.run('cat ~/.idact-notebook-env'))"
   ]
  },
  {
   "cell_type": "markdown",
   "metadata": {},
   "source": [
    "The reverse operation is pulling the environment, which merges the remote environment into the local environment. Machine-specific information like the private key path is skipped when pushing or pulling."
   ]
  },
  {
   "cell_type": "code",
   "execution_count": 57,
   "metadata": {},
   "outputs": [
    {
     "name": "stdout",
     "output_type": "stream",
     "text": [
      "2018-10-22 02:37:39 INFO: Pulling the environment from cluster.\n"
     ]
    }
   ],
   "source": [
    "pull_environment(cluster, path='~/.idact-notebook-env')"
   ]
  },
  {
   "cell_type": "markdown",
   "metadata": {},
   "source": [
    "The 'path' parameter is optional. It defaults to ~/.idact.conf, or the value of the remote IDACT_CONFIG_PATH environment variable."
   ]
  },
  {
   "cell_type": "code",
   "execution_count": 58,
   "metadata": {},
   "outputs": [
    {
     "data": {
      "text/plain": [
       "'removed ‘/net/people/plggarstka/.idact-notebook-env’'"
      ]
     },
     "execution_count": 58,
     "metadata": {},
     "output_type": "execute_result"
    }
   ],
   "source": [
    "node.run('rm -v ~/.idact-notebook-env')"
   ]
  },
  {
   "cell_type": "markdown",
   "metadata": {},
   "source": [
    "## Remove cluster"
   ]
  },
  {
   "cell_type": "markdown",
   "metadata": {},
   "source": [
    "A cluster can be removed from the environment."
   ]
  },
  {
   "cell_type": "code",
   "execution_count": 59,
   "metadata": {},
   "outputs": [
    {
     "name": "stdout",
     "output_type": "stream",
     "text": [
      "2018-10-22 02:37:52 INFO: No auth method specified, defaulting to password-based.\n"
     ]
    },
    {
     "data": {
      "text/plain": [
       "Cluster(fakehost, 2222, fakeuser, auth=AuthMethod.ASK, key=None, install_key=True, disable_sshd=False)"
      ]
     },
     "execution_count": 59,
     "metadata": {},
     "output_type": "execute_result"
    }
   ],
   "source": [
    "add_cluster(name='fake',\n",
    "            user='fakeuser',\n",
    "            host='fakehost',\n",
    "            port=2222)"
   ]
  },
  {
   "cell_type": "code",
   "execution_count": 60,
   "metadata": {},
   "outputs": [
    {
     "data": {
      "text/plain": [
       "{'pro': Cluster(pro.cyfronet.pl, 22, plggarstka, auth=AuthMethod.PUBLIC_KEY, key='E:\\\\shared\\\\uni\\\\eng-project\\\\notebooks\\\\../.notebook-ssh\\\\id_rsa_sy', install_key=False, disable_sshd=False),\n",
       " 'fake': Cluster(fakehost, 2222, fakeuser, auth=AuthMethod.ASK, key=None, install_key=True, disable_sshd=False)}"
      ]
     },
     "execution_count": 60,
     "metadata": {},
     "output_type": "execute_result"
    }
   ],
   "source": [
    "show_clusters()"
   ]
  },
  {
   "cell_type": "code",
   "execution_count": 61,
   "metadata": {},
   "outputs": [],
   "source": [
    "remove_cluster('fake')"
   ]
  },
  {
   "cell_type": "code",
   "execution_count": 62,
   "metadata": {},
   "outputs": [
    {
     "data": {
      "text/plain": [
       "{'pro': Cluster(pro.cyfronet.pl, 22, plggarstka, auth=AuthMethod.PUBLIC_KEY, key='E:\\\\shared\\\\uni\\\\eng-project\\\\notebooks\\\\../.notebook-ssh\\\\id_rsa_sy', install_key=False, disable_sshd=False)}"
      ]
     },
     "execution_count": 62,
     "metadata": {},
     "output_type": "execute_result"
    }
   ],
   "source": [
    "show_clusters()"
   ]
  }
 ],
 "metadata": {
  "kernelspec": {
   "display_name": "Python [default]",
   "language": "python",
   "name": "python3"
  },
  "language_info": {
   "codemirror_mode": {
    "name": "ipython",
    "version": 3
   },
   "file_extension": ".py",
   "mimetype": "text/x-python",
   "name": "python",
   "nbconvert_exporter": "python",
   "pygments_lexer": "ipython3",
   "version": "3.6.5"
  }
 },
 "nbformat": 4,
 "nbformat_minor": 2
}
