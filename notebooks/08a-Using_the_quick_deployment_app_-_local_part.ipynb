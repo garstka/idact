{
 "cells": [
  {
   "cell_type": "markdown",
   "metadata": {},
   "source": [
    "# 08a. Using the quick deployment app - local part"
   ]
  },
  {
   "cell_type": "markdown",
   "metadata": {},
   "source": [
    "## Overview"
   ]
  },
  {
   "cell_type": "markdown",
   "metadata": {},
   "source": [
    "In this notebook and its remote counterpart `08b`, you will learn how to:\n",
    "\n",
    " - Use the `idact-notebook` app to quickly deploy a notebook to work with."
   ]
  },
  {
   "cell_type": "markdown",
   "metadata": {},
   "source": [
    "## idact-notebook app"
   ]
  },
  {
   "cell_type": "markdown",
   "metadata": {},
   "source": [
    "It's recommended that *idact* is installed with *pip*. Alternatively, make sure the dependencies are installed: `pip install -r requirements.txt`, and *idact* is in current path."
   ]
  },
  {
   "cell_type": "markdown",
   "metadata": {},
   "source": [
    "You can then deploy nodes and Jupyter automatically using the following command:\n",
    "```\n",
    "idact-notebook\n",
    "```\n",
    "or:\n",
    "```\n",
    "python -m idact.notebook\n",
    "```\n",
    "See the help message by running:\n",
    "```\n",
    "idact-notebook --help\n",
    "```\n",
    "or execute the following if you are running this notebook from the repo:"
   ]
  },
  {
   "cell_type": "code",
   "execution_count": 1,
   "metadata": {},
   "outputs": [
    {
     "name": "stdout",
     "output_type": "stream",
     "text": [
      "Usage: notebook.py [OPTIONS] CLUSTER_NAME\n",
      "\n",
      "  A console script that executes a Jupyter Notebook instance on an allocated\n",
      "  cluster node, and makes it accessible in the local browser.\n",
      "\n",
      "  CLUSTER_NAME argument is the cluster name to execute the notebook on. It\n",
      "  must already be present in the config file.\n",
      "\n",
      "Options:\n",
      "  -e, --environment TEXT  Environment path. Default: ~/.idact.conf or the\n",
      "                          value of IDACT_CONFIG_PATH.\n",
      "  --save-defaults         Save allocation parameters as defaults for next\n",
      "                          time.\n",
      "  --reset-defaults        Reset unspecified allocation parameters to defaults.\n",
      "  --nodes INTEGER         Cluster node count. [Allocation parameter]. Jupyter\n",
      "                          notebook will be deployed on the first node.\n",
      "                          Default: 1.\n",
      "  --cores INTEGER         CPU core count per node. [Allocation parameter].\n",
      "                          Default: 1\n",
      "  --memory-per-node TEXT  Memory per node. [Allocation parameter]. Default:\n",
      "                          1GiB\n",
      "  --walltime TEXT         Maximum time to allocate the resources for. Format:\n",
      "                          [days-]hours:minutes:seconds. [Allocation\n",
      "                          parameter]. Default: 0:10:00\n",
      "  --native-arg TEXT...    Native arguments for the workload manager. Values\n",
      "                          are not validated. Supported arguments take\n",
      "                          precedence over native arguments. Arguments with\n",
      "                          None as value are treated as flags. Arguments\n",
      "                          specified later override earlier arguments.\n",
      "                          [Allocation parameter]. Default: No native\n",
      "                          arguments.\n",
      "  --help                  Show this message and exit.\n"
     ]
    }
   ],
   "source": [
    "import sys\n",
    "import subprocess\n",
    "\n",
    "help_message = subprocess.getoutput(\n",
    "    \"cd .. && {python} -m idact.notebook --help\".format(python=sys.executable))\n",
    "\n",
    "print(help_message)"
   ]
  },
  {
   "cell_type": "markdown",
   "metadata": {},
   "source": [
    "## Deploy a notebook from command line"
   ]
  },
  {
   "cell_type": "markdown",
   "metadata": {},
   "source": [
    "To deploy a notebook on a cluster with similar parameters we used in previous notebooks, execute the following command in a terminal. Replace `hpc` and `intdata` with values appropriate for your cluster."
   ]
  },
  {
   "cell_type": "markdown",
   "metadata": {},
   "source": [
    "`idact-notebook hpc --save-defaults --nodes 3 --cores 2 --memory-per-node 10GiB --walltime 0:20:00 --native-arg --account intdata`"
   ]
  },
  {
   "cell_type": "markdown",
   "metadata": {},
   "source": [
    "The flag `--save-defaults` is optional, but it saves the allocation parameters. Next time, the following will have the same effect:\n",
    "```\n",
    "idact-notebook hpc\n",
    "```"
   ]
  },
  {
   "cell_type": "markdown",
   "metadata": {},
   "source": [
    "Then, if you wanted to deviate from saved defaults slightly, you can just override the arguments you are interested in:\n",
    "```\n",
    "idact-notebook hpc --nodes 1\n",
    "```"
   ]
  },
  {
   "cell_type": "markdown",
   "metadata": {},
   "source": [
    "After a while, the deployed notebook should open in a new tab."
   ]
  },
  {
   "cell_type": "markdown",
   "metadata": {},
   "source": [
    "## Copy notebook `08b` to the cluster"
   ]
  },
  {
   "cell_type": "markdown",
   "metadata": {},
   "source": [
    "Drag and drop `08b-Using_the_quick_deployment_app_-_remote_part.ipynb` to the deployed notebook, and open it there."
   ]
  },
  {
   "cell_type": "markdown",
   "metadata": {},
   "source": [
    "## Follow the instructions in notebook `08b`"
   ]
  },
  {
   "cell_type": "markdown",
   "metadata": {},
   "source": [
    "Follow the instructions until you are referred back to this notebook."
   ]
  },
  {
   "cell_type": "markdown",
   "metadata": {},
   "source": [
    "## Cancel the allocation"
   ]
  },
  {
   "cell_type": "markdown",
   "metadata": {},
   "source": [
    "It's important to cancel an allocation if you're done with it early, in order to minimize the CPU time you are charged for.\n",
    "\n",
    "For `idact-notebook`, it's best to `cancel` in the remote notebook. The allocation will also be cancelled if you hit `Ctrl+C`, though if you do it repeatedly you may stop the cancellation process."
   ]
  },
  {
   "cell_type": "markdown",
   "metadata": {},
   "source": [
    "## Next notebook"
   ]
  },
  {
   "cell_type": "markdown",
   "metadata": {},
   "source": [
    "In the next notebook, we will use Dask to perform an analysis of a large data set on multiple nodes."
   ]
  }
 ],
 "metadata": {
  "kernelspec": {
   "display_name": "Python [default]",
   "language": "python",
   "name": "python3"
  },
  "language_info": {
   "codemirror_mode": {
    "name": "ipython",
    "version": 3
   },
   "file_extension": ".py",
   "mimetype": "text/x-python",
   "name": "python",
   "nbconvert_exporter": "python",
   "pygments_lexer": "ipython3",
   "version": "3.6.5"
  }
 },
 "nbformat": 4,
 "nbformat_minor": 2
}
